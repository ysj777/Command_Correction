{
 "cells": [
  {
   "cell_type": "code",
   "execution_count": 2,
   "id": "ef45abb6",
   "metadata": {},
   "outputs": [],
   "source": [
    "import os\n",
    "from openai import OpenAI\n",
    "import pandas as pd\n",
    "import numpy as np\n",
    "import re\n",
    "import string\n",
    "import json\n",
    "import csv\n",
    "from tqdm import tqdm\n"
   ]
  },
  {
   "cell_type": "code",
   "execution_count": null,
   "id": "5014f5b4",
   "metadata": {},
   "outputs": [],
   "source": [
    "client = OpenAI(\n",
    "    api_key=\"\",  # Write down your api key here\n",
    ")"
   ]
  },
  {
   "cell_type": "code",
   "execution_count": 11,
   "id": "f3c0d39c",
   "metadata": {},
   "outputs": [],
   "source": [
    "SIGHAN_df = pd.read_csv(\"Wiki_data/Sighan_input_classifer_test.csv\", encoding='utf-8')\n",
    "Wiki_df = pd.read_csv(\"Wiki_data\\inputClassifier_test.csv\", encoding='utf-8')"
   ]
  },
  {
   "cell_type": "code",
   "execution_count": 59,
   "id": "d8ec6280",
   "metadata": {},
   "outputs": [],
   "source": [
    "input_prompt = \"\"\"你是一個語音輸入指令分類器，請判斷使用者的語音是以下哪種類型：\n",
    "\n",
    "0：一般語音內容（如敘述、聊天內容）\n",
    "\n",
    "1：編輯指令（例如「請把某個字改成別的字」、「刪除某句話」）\n",
    "\n",
    "2：操作指令（例如「停止錄音」、「送出目前內容」、「重新開始錄音」）\n",
    "\n",
    "若屬於操作指令（2），請再細分為下列三種，並輸出對應的代號：\n",
    "\n",
    "2-1：停止錄音指令\n",
    "表示暫停錄音，不再接收語音辨識內容。\n",
    "例句：停止錄音、錄到這邊就好\n",
    "\n",
    "2-2：送出目前內容指令\n",
    "表示確認、傳送目前的輸入內容。\n",
    "例句：送出、傳出去\n",
    "\n",
    "2-3：重新開始錄音（繼續說話）指令\n",
    "表示使用者要「繼續錄音」，恢復語音辨識。常見於先前已停止錄音後，現在希望繼續。\n",
    "例句：重新開始、繼續錄音\n",
    "\n",
    "請根據輸入的句子，輸出下列代號其中之一：\n",
    "0、1、2-1、2-2 或 2-3\"\"\""
   ]
  },
  {
   "cell_type": "code",
   "execution_count": 12,
   "id": "fee6d7ff",
   "metadata": {},
   "outputs": [],
   "source": [
    "predictions = []\n",
    "ground_truths = []"
   ]
  },
  {
   "cell_type": "code",
   "execution_count": 15,
   "id": "2ae5fdf7",
   "metadata": {},
   "outputs": [
    {
     "name": "stderr",
     "output_type": "stream",
     "text": [
      "100%|██████████| 474/474 [04:26<00:00,  1.78it/s]\n"
     ]
    }
   ],
   "source": [
    "for index, row in tqdm(SIGHAN_df.iterrows(), total=len(SIGHAN_df)):\n",
    "    try:\n",
    "        response = client.chat.completions.create(\n",
    "            model=\"gpt-4o-mini\",\n",
    "            messages=[\n",
    "                {\"role\": \"system\", \"content\": prompt},\n",
    "                {\"role\": \"user\", \"content\": row['text']}\n",
    "            ]\n",
    "        )\n",
    "        # 擷取回應\n",
    "        result = response.choices[0].message.content.strip()\n",
    "\n",
    "        # 儲存預測與真實標籤\n",
    "        predictions.append(result)\n",
    "        ground_truths.append(row['label'])\n",
    "\n",
    "    except Exception as e:\n",
    "        print(f\"Error at index {index}: {e}\")\n",
    "        predictions.append(\"error\")\n",
    "        ground_truths.append(row['label'])"
   ]
  },
  {
   "cell_type": "code",
   "execution_count": 16,
   "id": "7b100b46",
   "metadata": {},
   "outputs": [],
   "source": [
    "new_samples = pd.DataFrame([\n",
    "    {\"text\": \"停止錄音\", \"label\": \"2-1\"},  # 停止錄音指令\n",
    "    {\"text\": \"送出\", \"label\": \"2-2\"},      # 送出內容指令\n",
    "    {\"text\": \"繼續錄音\", \"label\": \"2-3\"}   # 重新開始指令\n",
    "])"
   ]
  },
  {
   "cell_type": "code",
   "execution_count": 17,
   "id": "7ca60f36",
   "metadata": {},
   "outputs": [
    {
     "name": "stderr",
     "output_type": "stream",
     "text": [
      "100%|██████████| 3/3 [00:01<00:00,  2.10it/s]\n"
     ]
    }
   ],
   "source": [
    "for index, row in tqdm(new_samples.iterrows(), total=len(new_samples)):\n",
    "    try:\n",
    "        response = client.chat.completions.create(\n",
    "            model=\"gpt-4o-mini\",\n",
    "            messages=[\n",
    "                {\"role\": \"system\", \"content\": prompt},\n",
    "                {\"role\": \"user\", \"content\": row['text']}\n",
    "            ]\n",
    "        )\n",
    "        # 擷取回應\n",
    "        result = response.choices[0].message.content.strip()\n",
    "\n",
    "        # 儲存預測與真實標籤\n",
    "        predictions.append(result)\n",
    "        ground_truths.append(row['label'])\n",
    "\n",
    "    except Exception as e:\n",
    "        print(f\"Error at index {index}: {e}\")\n",
    "        predictions.append(\"error\")\n",
    "        ground_truths.append(row['label'])"
   ]
  },
  {
   "cell_type": "code",
   "execution_count": 18,
   "id": "af69f73f",
   "metadata": {},
   "outputs": [
    {
     "name": "stdout",
     "output_type": "stream",
     "text": [
      "Predictions: ['0', '1', '0', '1', '0', '1', '0', '1', '0', '1', '0', '1', '0', '1', '0', '1', '0', '1', '0', '1', '0', '1', '0', '1', '0', '1', '0', '1', '0', '1', '0', '1', '0', '1', '0', '1', '0', '1', '0', '1', '0', '1', '0', '1', '0', '1', '0', '1', '0', '1', '0', '1', '0', '1', '0', '1', '0', '1', '0', '1', '0', '1', '0', '1', '0', '1', '0', '1', '0', '1', '0', '1', '0', '1', '0', '1', '0', '1', '0', '1', '0', '1', '0', '1', '0', '1', '0', '1', '0', '1', '0', '1', '0', '1', '0', '1', '0', '1', '0', '1', '0', '1', '0', '1', '0', '1', '0', '1', '0', '1', '0', '1', '0', '1', '0', '1', '0', '1', '0', '1', '0', '1', '0', '1', '0', '1', '0', '1', '0', '1', '0', '1', '0', '1', '0', '1', '0', '1', '0', '1', '0', '1', '0', '1', '0', '1', '0', '1', '0', '1', '0', '1', '0', '1', '0', '1', '0', '1', '0', '1', '0', '1', '0', '1', '0', '1', '0', '1', '0', '1', '0', '1', '0', '1', '0', '1', '0', '1', '0', '1', '0', '1', '0', '1', '0', '1', '0', '1', '0', '1', '0', '1', '0', '1', '0', '1', '0', '1', '0', '1', '0', '1', '0', '1', '0', '1', '0', '1', '0', '1', '0', '1', '0', '1', '0', '1', '0', '1', '0', '1', '0', '1', '0', '1', '0', '1', '0', '1', '0', '1', '0', '1', '0', '1', '0', '1', '0', '1', '0', '1', '0', '1', '0', '1', '0', '1', '0', '1', '0', '1', '0', '1', '0', '1', '0', '1', '0', '1', '0', '1', '0', '1', '0', '1', '0', '1', '0', '1', '0', '1', '0', '1', '0', '1', '0', '1', '0', '1', '0', '1', '0', '1', '0', '1', '0', '1', '0', '1', '0', '1', '2-3', '1', '0', '1', '0', '1', '0', '1', '0', '1', '0', '1', '0', '1', '0', '1', '0', '1', '0', '1', '0', '1', '0', '1', '0', '1', '0', '1', '0', '1', '0', '1', '0', '1', '0', '1', '0', '1', '0', '1', '0', '1', '0', '1', '0', '1', '0', '1', '0', '1', '0', '1', '0', '1', '0', '1', '0', '1', '0', '1', '0', '1', '0', '1', '0', '1', '0', '1', '0', '1', '0', '1', '0', '1', '0', '1', '0', '1', '0', '1', '0', '1', '0', '1', '0', '1', '0', '1', '0', '1', '0', '1', '0', '1', '0', '1', '0', '1', '0', '1', '0', '1', '0', '1', '0', '1', '0', '1', '0', '1', '0', '1', '0', '1', '0', '1', '0', '1', '0', '1', '0', '1', '0', '1', '0', '1', '0', '1', '0', '1', '0', '1', '0', '1', '0', '1', '0', '1', '0', '1', '0', '1', '0', '1', '0', '1', '0', '1', '0', '1', '0', '1', '0', '1', '0', '1', '0', '1', '0', '1', '0', '1', '0', '1', '0', '1', '0', '1', '0', '1', '0', '1', '0', '1', '0', '1', '0', '1', '0', '1', '0', '1', '0', '1', '2-1', '2-2', '2-3']\n",
      "Ground Truths: [0, 1, 0, 1, 0, 1, 0, 1, 0, 1, 0, 1, 0, 1, 0, 1, 0, 1, 0, 1, 0, 1, 0, 1, 0, 1, 0, 1, 0, 1, 0, 1, 0, 1, 0, 1, 0, 1, 0, 1, 0, 1, 0, 1, 0, 1, 0, 1, 0, 1, 0, 1, 0, 1, 0, 1, 0, 1, 0, 1, 0, 1, 0, 1, 0, 1, 0, 1, 0, 1, 0, 1, 0, 1, 0, 1, 0, 1, 0, 1, 0, 1, 0, 1, 0, 1, 0, 1, 0, 1, 0, 1, 0, 1, 0, 1, 0, 1, 0, 1, 0, 1, 0, 1, 0, 1, 0, 1, 0, 1, 0, 1, 0, 1, 0, 1, 0, 1, 0, 1, 0, 1, 0, 1, 0, 1, 0, 1, 0, 1, 0, 1, 0, 1, 0, 1, 0, 1, 0, 1, 0, 1, 0, 1, 0, 1, 0, 1, 0, 1, 0, 1, 0, 1, 0, 1, 0, 1, 0, 1, 0, 1, 0, 1, 0, 1, 0, 1, 0, 1, 0, 1, 0, 1, 0, 1, 0, 1, 0, 1, 0, 1, 0, 1, 0, 1, 0, 1, 0, 1, 0, 1, 0, 1, 0, 1, 0, 1, 0, 1, 0, 1, 0, 1, 0, 1, 0, 1, 0, 1, 0, 1, 0, 1, 0, 1, 0, 1, 0, 1, 0, 1, 0, 1, 0, 1, 0, 1, 0, 1, 0, 1, 0, 1, 0, 1, 0, 1, 0, 1, 0, 1, 0, 1, 0, 1, 0, 1, 0, 1, 0, 1, 0, 1, 0, 1, 0, 1, 0, 1, 0, 1, 0, 1, 0, 1, 0, 1, 0, 1, 0, 1, 0, 1, 0, 1, 0, 1, 0, 1, 0, 1, 0, 1, 0, 1, 0, 1, 0, 1, 0, 1, 0, 1, 0, 1, 0, 1, 0, 1, 0, 1, 0, 1, 0, 1, 0, 1, 0, 1, 0, 1, 0, 1, 0, 1, 0, 1, 0, 1, 0, 1, 0, 1, 0, 1, 0, 1, 0, 1, 0, 1, 0, 1, 0, 1, 0, 1, 0, 1, 0, 1, 0, 1, 0, 1, 0, 1, 0, 1, 0, 1, 0, 1, 0, 1, 0, 1, 0, 1, 0, 1, 0, 1, 0, 1, 0, 1, 0, 1, 0, 1, 0, 1, 0, 1, 0, 1, 0, 1, 0, 1, 0, 1, 0, 1, 0, 1, 0, 1, 0, 1, 0, 1, 0, 1, 0, 1, 0, 1, 0, 1, 0, 1, 0, 1, 0, 1, 0, 1, 0, 1, 0, 1, 0, 1, 0, 1, 0, 1, 0, 1, 0, 1, 0, 1, 0, 1, 0, 1, 0, 1, 0, 1, 0, 1, 0, 1, 0, 1, 0, 1, 0, 1, 0, 1, 0, 1, 0, 1, 0, 1, 0, 1, 0, 1, 0, 1, 0, 1, 0, 1, 0, 1, 0, 1, 0, 1, 0, 1, 0, 1, 0, 1, '2-1', '2-2', '2-3']\n"
     ]
    }
   ],
   "source": [
    "print(\"Predictions:\", predictions)\n",
    "print(\"Ground Truths:\", ground_truths)"
   ]
  },
  {
   "cell_type": "code",
   "execution_count": 30,
   "id": "cbf85227",
   "metadata": {},
   "outputs": [
    {
     "name": "stdout",
     "output_type": "stream",
     "text": [
      "F1 score (macro): 0.9329105003523608\n",
      "Classification Report:\n",
      "               precision    recall  f1-score   support\n",
      "\n",
      "           0       1.00      1.00      1.00       237\n",
      "           1       1.00      1.00      1.00       237\n",
      "         2-1       1.00      1.00      1.00         1\n",
      "         2-2       1.00      1.00      1.00         1\n",
      "         2-3       0.50      1.00      0.67         1\n",
      "\n",
      "    accuracy                           1.00       477\n",
      "   macro avg       0.90      1.00      0.93       477\n",
      "weighted avg       1.00      1.00      1.00       477\n",
      "\n"
     ]
    }
   ],
   "source": [
    "\n",
    "from sklearn.metrics import f1_score, classification_report\n",
    "# 移除無效預測\n",
    "valid_preds = [p for p, gt in zip(predictions, ground_truths) if p != \"error\"]\n",
    "valid_labels = [str(gt) for p, gt in zip(predictions, ground_truths) if p != \"error\"]\n",
    "\n",
    "# 計算並輸出 F1-score 與分類報告\n",
    "print(\"F1 score (macro):\", f1_score(valid_labels, valid_preds, average='macro'))\n",
    "print(\"Classification Report:\\n\", classification_report(valid_labels, valid_preds))"
   ]
  },
  {
   "cell_type": "code",
   "execution_count": 23,
   "id": "8cc35312",
   "metadata": {},
   "outputs": [],
   "source": [
    "\n",
    "SIGHAN_df = pd.concat([SIGHAN_df, new_samples], ignore_index=True)\n",
    "\n",
    "output_df = pd.DataFrame({\n",
    "    \"text\": SIGHAN_df[\"text\"],\n",
    "    \"prediction\": predictions,\n",
    "    \"label\": ground_truths\n",
    "})\n",
    "output_df.to_csv(\"SIGHAN_predictions.csv\", index=False, encoding=\"utf-8-sig\")\n"
   ]
  },
  {
   "cell_type": "code",
   "execution_count": null,
   "id": "65a809db",
   "metadata": {},
   "outputs": [
    {
     "ename": "NameError",
     "evalue": "name 'valid_labels' is not defined",
     "output_type": "error",
     "traceback": [
      "\u001b[1;31m---------------------------------------------------------------------------\u001b[0m",
      "\u001b[1;31mNameError\u001b[0m                                 Traceback (most recent call last)",
      "Cell \u001b[1;32mIn[1], line 10\u001b[0m\n\u001b[0;32m      7\u001b[0m         \u001b[38;5;28;01mreturn\u001b[39;00m \u001b[38;5;124m\"\u001b[39m\u001b[38;5;124m2-x\u001b[39m\u001b[38;5;124m\"\u001b[39m\n\u001b[0;32m      8\u001b[0m     \u001b[38;5;28;01mreturn\u001b[39;00m label\n\u001b[1;32m---> 10\u001b[0m merged_labels \u001b[38;5;241m=\u001b[39m [merge_rare_classes(lbl) \u001b[38;5;28;01mfor\u001b[39;00m lbl \u001b[38;5;129;01min\u001b[39;00m \u001b[43mvalid_labels\u001b[49m]\n\u001b[0;32m     11\u001b[0m merged_preds \u001b[38;5;241m=\u001b[39m [merge_rare_classes(pred) \u001b[38;5;28;01mfor\u001b[39;00m pred \u001b[38;5;129;01min\u001b[39;00m valid_preds]\n\u001b[0;32m     13\u001b[0m \u001b[38;5;66;03m# 計算混淆矩陣與標籤順序\u001b[39;00m\n",
      "\u001b[1;31mNameError\u001b[0m: name 'valid_labels' is not defined"
     ]
    }
   ],
   "source": [
    "import matplotlib.pyplot as plt\n",
    "import seaborn as sns\n",
    "from sklearn.metrics import confusion_matrix\n",
    "\n",
    "def merge_rare_classes(label):\n",
    "    if label in [\"2-1\", \"2-2\", \"2-3\"]:\n",
    "        return \"2-x\"\n",
    "    return label\n",
    "\n",
    "merged_labels = [merge_rare_classes(lbl) for lbl in valid_labels]\n",
    "merged_preds = [merge_rare_classes(pred) for pred in valid_preds]\n",
    "\n",
    "# 建立混淆矩陣\n",
    "cm = confusion_matrix(merged_labels, merged_preds, labels=sorted(set(merged_labels + merged_preds)))\n",
    "\n",
    "# 畫圖\n",
    "plt.figure(figsize=(8, 6))\n",
    "sns.heatmap(cm, annot=True, fmt=\"d\", cmap=\"Blues\",\n",
    "            xticklabels=sorted(set(merged_labels + merged_preds)),\n",
    "            yticklabels=sorted(set(merged_labels + merged_preds)))\n",
    "plt.xlabel(\"Predicted Label\")\n",
    "plt.ylabel(\"True Label\")\n",
    "plt.title(\"Confusion Matrix\")\n",
    "plt.tight_layout()\n",
    "\n",
    "# 儲存圖檔（PNG）\n",
    "plt.savefig(\"SIGHAN_confusion_matrix.png\", dpi=300)  # 你也可以改成 .pdf 或 .svg\n",
    "plt.close()  # 避免在非互動環境多餘顯示\n"
   ]
  },
  {
   "cell_type": "code",
   "execution_count": 21,
   "id": "74b475ba",
   "metadata": {},
   "outputs": [],
   "source": [
    "wiki_predictions = []\n",
    "wiki_ground_truths = []"
   ]
  },
  {
   "cell_type": "code",
   "execution_count": 22,
   "id": "5ea7fec1",
   "metadata": {},
   "outputs": [
    {
     "name": "stderr",
     "output_type": "stream",
     "text": [
      "100%|██████████| 579/579 [05:04<00:00,  1.90it/s]\n"
     ]
    }
   ],
   "source": [
    "for index, row in tqdm(Wiki_df.iterrows(), total=len(Wiki_df)):\n",
    "    try:\n",
    "        response = client.chat.completions.create(\n",
    "            model=\"gpt-4o-mini\",\n",
    "            messages=[\n",
    "                {\"role\": \"system\", \"content\": prompt},\n",
    "                {\"role\": \"user\", \"content\": row['text']}\n",
    "            ]\n",
    "        )\n",
    "        # 擷取回應\n",
    "        result = response.choices[0].message.content.strip()\n",
    "\n",
    "        # 儲存預測與真實標籤\n",
    "        wiki_predictions.append(result)\n",
    "        wiki_ground_truths.append(row['label'])\n",
    "\n",
    "    except Exception as e:\n",
    "        print(f\"Error at index {index}: {e}\")\n",
    "        wiki_predictions.append(\"error\")\n",
    "        wiki_ground_truths.append(row['label'])"
   ]
  },
  {
   "cell_type": "code",
   "execution_count": 24,
   "id": "ebcf51fb",
   "metadata": {},
   "outputs": [
    {
     "name": "stderr",
     "output_type": "stream",
     "text": [
      "100%|██████████| 3/3 [00:01<00:00,  2.06it/s]\n"
     ]
    }
   ],
   "source": [
    "for index, row in tqdm(new_samples.iterrows(), total=len(new_samples)):\n",
    "    try:\n",
    "        response = client.chat.completions.create(\n",
    "            model=\"gpt-4o-mini\",\n",
    "            messages=[\n",
    "                {\"role\": \"system\", \"content\": prompt},\n",
    "                {\"role\": \"user\", \"content\": row['text']}\n",
    "            ]\n",
    "        )\n",
    "        # 擷取回應\n",
    "        result = response.choices[0].message.content.strip()\n",
    "\n",
    "        # 儲存預測與真實標籤\n",
    "        wiki_predictions.append(result)\n",
    "        wiki_ground_truths.append(row['label'])\n",
    "\n",
    "    except Exception as e:\n",
    "        print(f\"Error at index {index}: {e}\")\n",
    "        wiki_predictions.append(\"error\")\n",
    "        wiki_ground_truths.append(row['label'])"
   ]
  },
  {
   "cell_type": "code",
   "execution_count": 25,
   "id": "2eb45e2b",
   "metadata": {},
   "outputs": [
    {
     "name": "stdout",
     "output_type": "stream",
     "text": [
      "F1 score (macro): 0.9892193827677698\n",
      "Classification Report:\n",
      "               precision    recall  f1-score   support\n",
      "\n",
      "           0       0.94      1.00      0.97       225\n",
      "           1       1.00      0.96      0.98       354\n",
      "         2-1       1.00      1.00      1.00         1\n",
      "         2-2       1.00      1.00      1.00         1\n",
      "         2-3       1.00      1.00      1.00         1\n",
      "\n",
      "    accuracy                           0.97       582\n",
      "   macro avg       0.99      0.99      0.99       582\n",
      "weighted avg       0.98      0.97      0.97       582\n",
      "\n"
     ]
    }
   ],
   "source": [
    "# 移除無效預測\n",
    "valid_preds = [p for p, gt in zip(wiki_predictions, wiki_ground_truths) if p != \"error\"]\n",
    "valid_labels = [str(gt) for p, gt in zip(wiki_predictions, wiki_ground_truths) if p != \"error\"]\n",
    "\n",
    "# 計算並輸出 F1-score 與分類報告\n",
    "print(\"F1 score (macro):\", f1_score(valid_labels, valid_preds, average='macro'))\n",
    "print(\"Classification Report:\\n\", classification_report(valid_labels, valid_preds))"
   ]
  },
  {
   "cell_type": "code",
   "execution_count": 26,
   "id": "d9e9b21f",
   "metadata": {},
   "outputs": [],
   "source": [
    "Wiki_df = pd.concat([Wiki_df, new_samples], ignore_index=True)\n",
    "\n",
    "wiki_output_df = pd.DataFrame({\n",
    "    \"text\": Wiki_df[\"text\"],\n",
    "    \"prediction\": wiki_predictions,\n",
    "    \"label\": wiki_ground_truths\n",
    "})\n",
    "wiki_output_df.to_csv(\"Wiki_predictions.csv\", index=False, encoding=\"utf-8-sig\")\n"
   ]
  },
  {
   "cell_type": "code",
   "execution_count": 118,
   "id": "96a3c098",
   "metadata": {},
   "outputs": [],
   "source": [
    "import matplotlib.pyplot as plt\n",
    "import seaborn as sns\n",
    "from sklearn.metrics import confusion_matrix\n",
    "\n",
    "def merge_rare_classes(label):\n",
    "    if label in [\"2-1\", \"2-2\", \"2-3\"]:\n",
    "        return \"2-x\"\n",
    "    return label\n",
    "\n",
    "merged_labels = [merge_rare_classes(lbl) for lbl in valid_labels]\n",
    "merged_preds = [merge_rare_classes(pred) for pred in valid_preds]\n",
    "\n",
    "# 建立混淆矩陣\n",
    "cm = confusion_matrix(merged_labels, merged_preds, labels=sorted(set(merged_labels + merged_preds)))\n",
    "\n",
    "# 畫圖\n",
    "plt.figure(figsize=(8, 6))\n",
    "sns.heatmap(cm, annot=True, fmt=\"d\", cmap=\"Blues\",\n",
    "            xticklabels=sorted(set(merged_labels + merged_preds)),\n",
    "            yticklabels=sorted(set(merged_labels + merged_preds)))\n",
    "plt.xlabel(\"Predicted Label\")\n",
    "plt.ylabel(\"True Label\")\n",
    "plt.title(\"Confusion Matrix\")\n",
    "plt.tight_layout()\n",
    "\n",
    "# 儲存圖檔（PNG）\n",
    "plt.savefig(\"Wiki_confusion_matrix.png\", dpi=300)  # 你也可以改成 .pdf 或 .svg\n",
    "plt.close()  # 避免在非互動環境多餘顯示\n"
   ]
  },
  {
   "cell_type": "code",
   "execution_count": 27,
   "id": "838fbc62",
   "metadata": {},
   "outputs": [],
   "source": [
    "wiki_valid_preds = [p for p, gt in zip(wiki_predictions, wiki_ground_truths) if p != \"error\"]\n",
    "wiki_valid_labels = [str(gt) for p, gt in zip(wiki_predictions, wiki_ground_truths) if p != \"error\"]\n"
   ]
  },
  {
   "cell_type": "code",
   "execution_count": 31,
   "id": "143df178",
   "metadata": {},
   "outputs": [],
   "source": [
    "import matplotlib.pyplot as plt\n",
    "import seaborn as sns\n",
    "from sklearn.metrics import confusion_matrix\n",
    "from matplotlib.lines import Line2D\n",
    "\n",
    "def merge_rare_classes(label):\n",
    "    if label in [\"2-1\", \"2-2\", \"2-3\"]:\n",
    "        return \"2-x\"\n",
    "    return label\n",
    "\n",
    "# 合併類別\n",
    "merged_wiki_labels = [merge_rare_classes(lbl) for lbl in wiki_valid_labels]\n",
    "merged_wiki_preds = [merge_rare_classes(pred) for pred in wiki_valid_preds]\n",
    "labels_wiki_merged = sorted(set(merged_wiki_labels + merged_wiki_preds))\n",
    "cm_wiki_merged = confusion_matrix(merged_wiki_labels, merged_wiki_preds, labels=labels_wiki_merged)\n",
    "\n",
    "merged_labels = [merge_rare_classes(lbl) for lbl in valid_labels]\n",
    "merged_preds = [merge_rare_classes(pred) for pred in valid_preds]\n",
    "labels_merged = sorted(set(merged_labels + merged_preds))\n",
    "cm_merged = confusion_matrix(merged_labels, merged_preds, labels=labels_merged)\n",
    "\n",
    "# 放大字體整體設定\n",
    "sns.set(font_scale=1.4)\n",
    "\n",
    "# 畫圖：兩張子圖\n",
    "fig, axes = plt.subplots(1, 2, figsize=(16, 6), gridspec_kw={'wspace': 0.3})\n",
    "\n",
    "# 左圖：SIGHAN\n",
    "sns.heatmap(cm_merged, annot=True, fmt=\"d\", cmap=\"Blues\",\n",
    "            xticklabels=labels_merged, yticklabels=labels_merged,\n",
    "            ax=axes[0], annot_kws={\"size\": 12})  # 格內字體大小\n",
    "axes[0].set_title(\"SIGHAN Confusion Matrix\", fontsize=16)\n",
    "axes[0].set_xlabel(\"Predicted Label\", fontsize=14)\n",
    "axes[0].set_ylabel(\"True Label\", fontsize=14)\n",
    "axes[0].tick_params(labelsize=12)\n",
    "\n",
    "# 右圖：Wiki\n",
    "sns.heatmap(cm_wiki_merged, annot=True, fmt=\"d\", cmap=\"Blues\",\n",
    "            xticklabels=labels_wiki_merged, yticklabels=labels_wiki_merged,\n",
    "            ax=axes[1], annot_kws={\"size\": 12})\n",
    "axes[1].set_title(\"Wiki Confusion Matrix\", fontsize=16)\n",
    "axes[1].set_xlabel(\"Predicted Label\", fontsize=14)\n",
    "axes[1].set_ylabel(\"True Label\", fontsize=14)\n",
    "axes[1].tick_params(labelsize=12)\n",
    "\n",
    "# 中間虛線\n",
    "line = Line2D([0.5, 0.5], [0.1, 0.9], transform=fig.transFigure,\n",
    "              color='gray', linestyle='--', linewidth=1)\n",
    "fig.add_artist(line)\n",
    "\n",
    "# 儲存圖片\n",
    "plt.savefig(\"SIGHAN_confusion_matrix_combined_with_line.png\", dpi=300)\n",
    "plt.close()\n"
   ]
  },
  {
   "cell_type": "code",
   "execution_count": 4,
   "id": "b59b426c",
   "metadata": {},
   "outputs": [],
   "source": [
    "SIGHAN_labeler_df = pd.read_csv(\"Wiki_data\\Sighan_modify_area_test.csv\", encoding='utf-8')\n",
    "Wiki_labeler_df = pd.read_csv(\"Wiki_data\\modifyClassifier_test.csv\", encoding='utf-8')"
   ]
  },
  {
   "cell_type": "code",
   "execution_count": 5,
   "id": "0811d979",
   "metadata": {},
   "outputs": [
    {
     "name": "stderr",
     "output_type": "stream",
     "text": [
      "C:\\Users\\jack0\\AppData\\Local\\Packages\\PythonSoftwareFoundation.Python.3.11_qbz5n2kfra8p0\\LocalCache\\local-packages\\Python311\\site-packages\\tqdm\\auto.py:21: TqdmWarning: IProgress not found. Please update jupyter and ipywidgets. See https://ipywidgets.readthedocs.io/en/stable/user_install.html\n",
      "  from .autonotebook import tqdm as notebook_tqdm\n",
      "C:\\Users\\jack0\\AppData\\Local\\Packages\\PythonSoftwareFoundation.Python.3.11_qbz5n2kfra8p0\\LocalCache\\local-packages\\Python311\\site-packages\\huggingface_hub\\file_download.py:1132: FutureWarning: `resume_download` is deprecated and will be removed in version 1.0.0. Downloads always resume when possible. If you want to force a new download, use `force_download=True`.\n",
      "  warnings.warn(\n"
     ]
    }
   ],
   "source": [
    "from transformers import BertTokenizer, BertModel\n",
    "import ast\n",
    "import Levenshtein\n",
    "\n",
    "tokenizer = BertTokenizer.from_pretrained('google-bert/bert-base-multilingual-cased')"
   ]
  },
  {
   "cell_type": "code",
   "execution_count": 6,
   "id": "402b77bf",
   "metadata": {},
   "outputs": [],
   "source": [
    "SIGHAN_labeler = pd.DataFrame(columns=['text', 'command','corrected_text'])"
   ]
  },
  {
   "cell_type": "code",
   "execution_count": null,
   "id": "1127fab1",
   "metadata": {},
   "outputs": [],
   "source": [
    "import ast\n",
    "from tqdm import tqdm\n",
    "\n",
    "for index, row in tqdm(SIGHAN_labeler_df.iterrows(), total=len(SIGHAN_labeler_df)):\n",
    "    # 將 text 用 [SEP] 分割成兩部分\n",
    "    parts = row['text'].split('[SEP]')\n",
    "    if len(parts) != 2:\n",
    "        print(f\"格式錯誤，跳過 index {index}\")\n",
    "        continue\n",
    "\n",
    "    original_text = parts[0].strip()\n",
    "    command_text = parts[1].strip()\n",
    "\n",
    "    # 將原句 tokenize\n",
    "    tokens = tokenizer.tokenize(row['text'])\n",
    "\n",
    "    # 解析標籤\n",
    "    labels = ast.literal_eval(row['label'])\n",
    "\n",
    "    # 判斷指令中是否包含三種關鍵字\n",
    "    if '刪除' in command_text:\n",
    "        operation = 'delete'\n",
    "    elif '新增' in command_text:\n",
    "        operation = 'insert'\n",
    "    elif '改成' in command_text:\n",
    "        operation = 'replace'\n",
    "    else:\n",
    "        operation = None\n",
    "\n",
    "    if operation is None:\n",
    "        print(f\"index {index} 未包含有效指令，跳過\")\n",
    "        SIGHAN_labeler = pd.concat([SIGHAN_labeler, pd.DataFrame({\n",
    "        'text': [original_text],\n",
    "        'command': [command_text],\n",
    "    })], ignore_index=True)\n",
    "        continue\n",
    "\n",
    "    # 先找出標籤中的關鍵位置\n",
    "    modify_indices = [i for i, lab in enumerate(labels) if lab == \"B-Modify\"]\n",
    "    filling_indices = [i for i, lab in enumerate(labels) if lab == \"B-Filling\"]\n",
    "\n",
    "    if operation == 'replace':\n",
    "        # 假設你要把 B-Modify 位置的 token 換成 B-Filling 位置的 token\n",
    "        if modify_indices and filling_indices:\n",
    "            for m_i, f_i in zip(modify_indices, filling_indices):\n",
    "                tokens[m_i] = tokens[f_i]\n",
    "\n",
    "    elif operation == 'delete':\n",
    "        # 刪除 B-Modify 標記位置的 token\n",
    "        for idx in sorted(modify_indices, reverse=True):\n",
    "            tokens.pop(idx)\n",
    "\n",
    "    elif operation == 'insert':\n",
    "        # 加入 B-Filling 標記位置的 token（這邊示範在 B-Filling 位置插入該 token，實際視情況調整）\n",
    "        # 這邊範例是直接把 B-Filling 的 token插入到該位置\n",
    "        for m_i, f_i in zip(modify_indices, filling_indices):\n",
    "            tokens.insert(m_i, tokens[f_i])\n",
    "    \n",
    "    if '[SEP]' in tokens:\n",
    "        tokens = tokens[:tokens.index('[SEP]')]\n",
    "\n",
    "    corrected_text = tokenizer.convert_tokens_to_string(tokens)\n",
    "    corrected_text = ''.join(tokens).replace('##', '')\n",
    "\n",
    "    SIGHAN_labeler = pd.concat([SIGHAN_labeler, pd.DataFrame({\n",
    "        'text': [original_text],\n",
    "        'command': [command_text],\n",
    "        'corrected_text': [corrected_text]\n",
    "    })], ignore_index=True)\n",
    "\n",
    "    print(f\"原句: {original_text}\")\n",
    "    print(f\"指令: {command_text}\")\n",
    "    print(f\"操作: {operation}\")\n",
    "    print(f\"結果: {corrected_text}\")\n",
    "    print(\"=\"*30)"
   ]
  },
  {
   "cell_type": "code",
   "execution_count": null,
   "id": "0d7c6da0",
   "metadata": {},
   "outputs": [],
   "source": [
    "print(\"SIGHAN_labeler DataFrame:\")\n",
    "print(SIGHAN_labeler)\n",
    "\n",
    "SIGHAN_labeler.to_csv(\"Wiki_data/SIGHAN_labeler_output.csv\", index=False, encoding='utf-8')"
   ]
  },
  {
   "cell_type": "code",
   "execution_count": 29,
   "id": "d8b319b3",
   "metadata": {},
   "outputs": [],
   "source": [
    "df = pd.read_csv(\"Wiki_data/SIGHAN_labeler_output.csv\", encoding='utf-8')\n",
    "\n",
    "df_predictions = []\n",
    "df_ground_truths = []"
   ]
  },
  {
   "cell_type": "code",
   "execution_count": 41,
   "id": "2dd4456f",
   "metadata": {},
   "outputs": [],
   "source": [
    "df_predictions_4o = []"
   ]
  },
  {
   "cell_type": "code",
   "execution_count": 12,
   "id": "e893de53",
   "metadata": {},
   "outputs": [],
   "source": [
    "prompt = \"\"\"你是一個語音辨識錯誤修正助手，任務是根據使用者的語音指令來修改句子。  \n",
    "使用者會提供一段「原始句子」與一個「修正指令」。  \n",
    "「修正指令」會指出「原始句子」中的錯誤內容，並提供如何修正該錯誤的方式。\n",
    "\n",
    "錯誤的描述方式可能會用以下這幾種形式表達（例如使用者以語音輸入時）：\n",
    "1. 部首結構：如「人部的他」、「女部的她」  \n",
    "2. 可拆解為兩個部件的字型：如「弓長張」  \n",
    "3. 常見詞語搭配說明：如「辛苦的辛」、「知曉的曉」、「谷欠欲」\n",
    "\n",
    "請根據指令對句子進行適當的新增、刪除或替換，並回傳**修改後的完整句子**。  \n",
    "請勿解釋或輸出中間步驟。\n",
    "\n",
    "範例：\n",
    "原始句子：我明天會去新北市拜訪朋友  \n",
    "修正指令：請把新北市改成台中市  \n",
    "回覆：我明天會去台中市拜訪朋友\n",
    "\n",
    "原始句子：我想要一杯咖啡  \n",
    "修正指令：請在咖啡前加上冰的  \n",
    "回覆：我想要一杯冰的咖啡\n",
    "\n",
    "原始句子：這真的是非常非常非常重要的事情  \n",
    "修正指令：請刪掉多餘的非常  \n",
    "回覆：這真的是非常重要的事情\n",
    "\n",
    "原始句子：真不得，下張項目可能為何？  \n",
    "修正指令：請在得到的得前面新增知曉的曉  \n",
    "回覆：真不曉得，下張項目可能為何？\n",
    "\n",
    "原始句子：心中並存這早熟的人脈與稚的自我表現與不時會表現出叛逆的態度  \n",
    "修正指令：把與其的與改成谷欠欲  \n",
    "回覆：心中並存這早熟的人脈與幼稚的自我表現欲不時會表現出叛逆的態度\n",
    "\n",
    "原始句子：他太衝動了，做事總是不經思考  \n",
    "修正指令：請把人部的他改成女部的她  \n",
    "回覆：她太衝動了，做事總是不經思考\"\"\""
   ]
  },
  {
   "cell_type": "code",
   "execution_count": 42,
   "id": "40034f4c",
   "metadata": {},
   "outputs": [
    {
     "name": "stderr",
     "output_type": "stream",
     "text": [
      "100%|██████████| 244/244 [04:35<00:00,  1.13s/it]\n"
     ]
    }
   ],
   "source": [
    "for index, row in tqdm(df.iterrows(), total=len(df)):\n",
    "    try:\n",
    "        response = client.chat.completions.create(\n",
    "            model=\"gpt-4o-mini\",\n",
    "            messages=[\n",
    "                {\"role\": \"system\", \"content\": prompt},\n",
    "                {\"role\": \"user\", \"content\": f\"原始句子：{row['text']}\\n語音指令：{row['command']}\"}\n",
    "            ]\n",
    "        )\n",
    "        # 擷取回應\n",
    "        result = response.choices[0].message.content.strip()\n",
    "\n",
    "        # 儲存預測與真實標籤\n",
    "        df_predictions_4o.append(result)\n",
    "        #df_ground_truths.append(row['corrected_text'])\n",
    "\n",
    "    except Exception as e:\n",
    "        print(f\"Error at index {index}: {e}\")\n",
    "        df_predictions_4o.append(\"error\")\n",
    "        #df_ground_truths.append(row['corrected_text'])"
   ]
  },
  {
   "cell_type": "code",
   "execution_count": 43,
   "id": "b6f60b17",
   "metadata": {},
   "outputs": [
    {
     "name": "stdout",
     "output_type": "stream",
     "text": [
      "Predictions: ['你說的是對，跟那些失業的人比起來你也算是運的。', '雖然是有＂經濟＂，可是又影響到生態環境，導致台灣持有的動物可能因此消失，接下來旅客為此而不再來會導致台灣旅遊業損失。', '怎麼辦？其實阿偉一整天水樂不曲學校了！', '假如哪天你是被丟書包的人呢你會怎麼辦呢，你會他一樣這麼做嗎，還是有其他辦法呢。', '根據人生的自然來講，每個人都愛自己的家人，尤其是「兒子與媽媽的關係」，大家都會知道他們的愛是無法計算的。', '對不起老師，今天早上我的婆婆生病，所以我要帶她去看醫生。', '在上班的時候會專心地工作，回家後也會付出了很多愛心物。', '裝了攝影機以後，家長就不用為再一次的子女苦惱思想了。', '我覺得這些人也在第二個相片兒，也在第三個相片兒。這個男人也在第一個相片兒。這兩人是朋友。', '我真的很高興你已經找到了一份工作了。', '事實上我們社會的的確壞人很多。', '孩子在也要上高中了吧，你還可以輔導他的學習。', '我的家是在您的工廠附近，最近您的工廠目的的噪音和臭味都讓這裡的人民真受不了。', '不要因為那位同學覺得你是小偷而導致你對他有偏見，我相信他心一定比妳更尷尬更不舒服。', '後來我回想以下就有重幽靈一般的問候出現：「值日生」是什麼？', '在夜店很熱鬧，有很多辣妹在跳舞，還可以喝酒和啤酒，跳舞，跟辣妹聊一聊。', '我想問你明天請假，因為今天下課以後我發現我的車子被偷走了。', '你回美國已後，請你幫我買一個好看黑色的錶。', '如果不能力的改的話，我們去投訴政府的機關。', '她告訴愛文：如果他在晚上喝酒他的身體一定不太好。', '最近廠長裡面發出一種很難聞的味道，這種味道只是讓我們村裡的空氣汙染，而還讓大家覺得害怕。', '雖然我理解你的想法，但我個人已經有了自己的人生計畫。', '今天他學習得很愉快。', '問題不在出來外面、問題一定是在個人裡面。', '雖然服用藥物我們還在呼吸外面的空氣、也還在接處贓的東西、怎麼可以容易治療呢？', '有人提起「隱私權」的問題，當然了解他們的想法，但跟小孩的學校生活安全比起來哪一個是重要呢？', '花蓮台東的風景氣勢磅礡、澎湖的景觀是人間仙境，要是這兩個地方的可貴自然美都被破壞了，台灣反而就是去了觀光的吸引力。', '他到學校的時時，中文課已經開始。', '問題就是「半工半讀」又兩片影像，並也存在壞處。', '我已經進入會幾年了，我有自己的計劃，自己的目標等等。', '我也知道你很難過也想找個辦法發洩，而大聲喊也是各辦法。', '我昨天學中文到晚上十點。', '所以你不用擔心景色的氣會慢慢好起來的。大明阿你要加油。自己要努力才能成功', '我趕快起床不洗澡，去公車站，但是有很多人而且阻塞車。', '那邊的天氣很好，不太熱也不太冷。', '我們望希請你趕快處理以上的問題，我們要求下個月以內把那問題解決。', '話說回來我訪問網路家的朋友大部分只跟我說一說幾天，然後結束跟我連囉。', '上個月我坐飛機到加拿大去了。', '我們約在台北101前面，好不好？六點可以嗎？請你星期六以前給我打電話。', '明天我要跟我的媽媽去公司買些重要的東西，所以不能跟你一塊兒去。', '到日本他看見他的朋友等她，他的朋友請她一起吃午飯。', '我很系望原諒，我祝你跟同學出去好好玩兒，你跟同學玩的人快樂，記得要小心。', '因為現在，我們這一時代，就是不能相信別人家的很冷淡的時代嘛！', '我希望可能參加你的晚會，可是他的身體真的不太好！', '我有很多鄰工作在李工廠，這家工廠幫這個城市的經濟。', '我已經自己能到公館捷運站了，可是看地圖也都看不懂怎麼去學校。', '我們打算很久要去看他，所以我不可能參加你的會。', '有別的現代工廠使用出了這兩個效果，你可以採用他們的辦法。', '他等了二十分鐘，公車才來，而且今天的路上的車子比較多，公車碰到塞車了。', '我建議你多活用現在你有的三天目的的放假的時間，比如說，你趁著這些時間可以去學電腦、外語、商業等。', '我寫這封電子郵件問你，現在你的身體怎麼樣了？', '現在回到家，慢慢再起今天的事情，一定對妳感到抱歉，改天應該會妳道歉。', '你說要跟朋友合作開供應各國食物餐廳？好！', '他坐公車三十分鐘才到學校了。', '來說他們忙不過來。他們認為在網路上找到朋友是一個很好的機會。', '我很高興你們要請我參加你們的婚禮。', '早知道他是老師，說不定可以跟他一起來學校，他很高興老師對他非常好。', '這城市很小對不對？', '我覺得很多人喜歡買黑色的書包應為不容易攢，我覺得咖啡色也漂亮。', '我們坐車４５分就到，我們開ＢＢＱ，我們都很快，我們玩的很高興。', '我覺得你應該也吃藥也休息幾天就好了。', '到教室之後老師是看到大明遲到，就罵他了很大聲。', '我認為，一個人是透過人際關係學習人生的深意義，這個角色是高薪或金錢沒辦法做到的。', '天氣那裡不怎麼好。', '上課以前後，我真的很高興因為我的老師是一前的那個小姐。', '還有私立的學校老師會幫忙你的小孩如果他不了解今天的題目，老師會照顧小孩很像家裡的感覺，我們學校都市的設備很好。', '他不坐我們計程車而先用台語告訴司機他叔叔地址而用英文跟我們說不必擔心，司機知道。', '這下子，他不得不衝動地檢你的東西。', '如果不是很大的問題我不會拜託您們呢，所以請先您們想一想方法怎麼的麼樣可以處理？', '恭喜恭喜！你找到工作，我们也很高兴。', '但是關於古克力，他好像就會發瘋了，行為就會變的。', '根據調查，青少年平均上網時間超過看書或看電視。', '今天夜上我要跟你很重要的事情談一談。', '剛開始我沉迷於「即時通」，每天和朋友在線上可以聊上數小時，聊一些有的沒的，時間隨著網路流逝非常快，完全沒有時間和精神可以應用在課業上。', '真不曉得，下張項目可能為何？', '我跟你說如果你的超能力乾最分手就好。', '我們都知道這個：「孩子是我們的將來」的說法。', '如果那份工作經驗是為了為生，養的成分也削弱，精神分散。', '我們的附近地方不是開給工廠用的，而且我們打算去立法院抗議，這個問題有很大影響到我們住進的生活。', '一天到晚在自己的職場辛苦地工作回到家沒有人來迎他會使他感到淒涼。', '他們要看得是美國電影。他們覺得很好看，所以他們看完了以後決定一定要買這個電影的ＤＶＤ的確了。', '我已經自己能到公館捷運站了，可是看地圖也都看不懂怎麼去學校。', '我應該學習法文，因為我明天有法文的考試。', '總得來說，正規教育和游戲探索世界是缺一不可的。家長應該讓孩子自由的摸索這個世界並時的給予指導和協助。', '老師跟小孩的關係是好的話、解決很多問題。', '我代表所有住在你工廠附近的人民先說一聲感謝，你的工廠的存在已經對我們這些人民帶了不少的幫忙。', '朋友不應該這樣：於是我要很認真的跟你說我覺得不好意思。', '老是教書。', '有的人經濟發展，有的人反對還憬坡懷。那誰的想法對嗎？', '我的頭有一點藤。', '假設是我們，一旦知道我們的一舉一動都有人察覺觀，我們會有怎麼樣的感覺？', '所以不是只有很好的激烈的學生，也會有激烈的父母。', '而且在我們班中，只有我跟她的關不好的。', '我都很認真地聽和說出自己的意見，並且也很嚴肅地思考及分析那個意見是好的或是不好的。', '有工作經驗助於個人的養寒食及工作能力。', '可是因為有了電腦，科技發達，因此我們到哪裡能夠簡單目的地視訊，看到遠處的朋友們。', '愛的李大明。', '因為這個題目對他來說不難，沒幾分鐘他已經就考好了。', '我的看法是如何呢？我持著作「不要設定限制」的態度。', '其實這個舉動是不必要的。你一旦決定把小孩送去學校是已經選擇相信你的小孩已經獨立，能在團體生活中過的非常好。', '他們不高興因為他們的衣服濕潤的。', '經濟發展與環境保護，皆是政府最重要的任務之一，不能以一完全賸餘二。', '我想要喝的東西，我餲得不得了。', '我們必要面對人與環境做一些平衡，所以研發新的綠色環保是將來的需求。', '你去以前，我可以給你錢。', '若本學校的網站只限給家長使用，這工作做法我很支持。', '因為我媽媽從蒙古來了，這幾天帶她去醫園。還要做的事情很多，累得不的了。', '政府可以多點錢，把高速公路彎過去是最好的方法。', '我以前看過台灣的自然的書，內容是蝴蝶王國。真是台灣一定保護自然環景。', '我們的這個地球只能美麗如果萬生萬物都不斷生殖發展。', '這種麵包的外面是白色的，是差不多高兩公高的，也有糖在裡面。冬天，麵包店都賣。', '印尼有一個地方叫峇里，那邊的風景最好看的。', '他問為什麼我在這裡自己站著然送我回火車站。', '我就要參加你的會，可是那個天我跟我的媽媽和爸爸要去美國看見我的弟弟。', '要是以自己賺錢付學費的話，也許容易找到學習意義和學習價值。', '有的小孩她不想這個學校但是父母偏偏他們一定要念這所學校，造成他們不喜歡念，如果念只是一個任務罷了。', '但您知不知道，咱們家裏的人，承受您的天才能只有大哥。', '最近，我覺得很累，生活太過無聊。', '也許老師可以把影片錄給父母看，所以他們知道他們的孩子這麼樣，也是這麼樣教他們的孩子。', '大部分的人會把經濟衰退視為發展的障礙，其實你能把握這時增加你的潛力。', '其實我們很多時候，不是完全能夠理解的行為和感受的。', '我們是好朋友所以我會一直在你身邊，有事就可以與我連絡。', '加上除了拿到博士學位的人以外，就業的時候沒有受到限制。', '在日本也很多青少年愛上網。有些人上網中毒了不能停上網。而且很多青少年在上網受到的不好的影響。', '但是到了中學，他們都開始大量用地電，而到了大學，他們都已經忘記了在小學時學的很多字。', '在日本，大學生打工的情況是相當普遍的。', '五十年前在美國有很多人吸菸，這些人得症的可能性很高，而且很多是草人。', '如果您那裡真的有事情不能回來．．．還是我這裡想辦法先處理吧！', '下個星期休假，所以我想跟你去旅行行。', '他跟同學在討論，前面在黑板上有數學的公式。', '「青少年上網數多」的情況。  \\n修改後的完整句子：「青少年上網數的情況。', '放假快要來了，你友打算嗎？', '我來台灣才一個多月。', '那本是美國的地理。', '現代的生活因為少子化的關係所以現在的人往往不想生孩子，但是怕孤獨的他們就會想養寵物來陪伴。', '他是很用功的人，所以很聰明。', '朋友的同學竟然說，你是不是意把我的錢包丟在其他地方？', '我的家離學校很近，所以我常走路去學校學習，走路大概十分鐘就到了。', '若在星期之內，其「噪音」及「臭味」亦然存在。我們不得不藉法律的方法並提出訟訴解決。', '我們居住民皆同意由於您方所造成他們的噪音困擾大致上分為兩個時段。', '看這種網路大部分都是學壞的，有很多理由：有的是想逃避家庭的困難，有的考不上或是失戀．．．所以選這種方法來解決問題。', '對你我們的建議是，「請您不要隨地放置垃圾」。', '多少青少年沉淪在網路的手裡，身邊的朋友多少位因為濫用網路送上了自己的前途，最後在人群中迷茫！', '有人說，世界上的事情的黑白分不了，個方法都有所導理。', '考完試以後我就有空了，所以等考完試我再給你打電話，好嗎？', '對不起，我們下星期再去看，好不好？請你了解我只好這樣做。', '我想請假一天，後天我一定會來上課的。', '請全公司的職員一起負擔公司的危機。機的狀況轉好而復甦，這些你們的功勞一定是會報恩你們的。', '如果從小的時候小孩覺得大人都不相信他們，那他們以後不會變成好的大人嗎？', '我們希望可以對大家早想，為大家的健康跟這邊的空氣希望您貴的您有改變的想法。', '相反，地域的他卻造成青少年身心靈發展不良的現象，如溝通能力障礙、自閉症、近視等等。', '就像我們華人常聽到「男主外，女主內」的句子。', '如果我曉得有小孩子的話，我不得我不會跟他們一樣支持在教室裡面裝攝影機。', '在花蓮縣去年一位特殊的高中生因收到老師的色情暴力懷孕，那件事造成連學長格致。', '例如年輕人開始晚上不睡覺打電玩進而影響的響明天上課的精神，或是長期在電腦前面注視著螢幕變成近視兒童。', '因為每個小孩的脾氣不一樣所以家長很擔心有沒有乖乖聽老師的話有沒有認真，小孩的成長一定要有家長在旁邊教育。', '祝你身體健康。', '不知不覺，對網路的依賴變得很重，在座位前花的時間已變得更多。', '我最喜歡秋天山上的風景。', '大明你還記不記得我們的荷蘭女同學？', '恭喜你們永遠幸福，早生孩子，恭喜恭喜。', '聽說你準備開一個祝會，那天我不能跟你參加。我很抱歉阿。', '雖然是需要投資的，不過我們相信這不只是為了我們這些人做，而也是為了我們孩子，他們的孩子，也是為了保持我們唯一目的的自然環境。', '既然我要跟你見面，可是應該幫他，可不可以改天嗎？', '最重要是如果爸媽真的自己去看真正的情況怎麼樣？才你了解自己的孩子。', '您工廠的噪音和臭味都讓鄰居們接受不了了，我們希望您趕快處理這件事。', '我也曾經有跟你類似的經驗，當時，我真很難過。', '總之而言，環境是人類需要的基本要求和因素，它是為了我們人類不斷犧牲。', '尤其是醫療方面系所的學費，差不多買得到一個房子一樣貴！', '小明的女朋友覺得這個電影很有趣，他覺得這個電影裡的人都很可愛。可是小明覺得有一點長，那麼長他睡著了。', '我今天來找你的時候你不再，我想告訴你，我明天不能來上課。', '今天早上我在辦公公司找妳，可是妳還沒來，所以我留一張紙告訴妳。', '我有一位在世界展望會工作的朋友想讓你認識，他非常有地愛心，幾乎每個禮拜都會上山，幫助部落的災區們，他說他想你聊一聊。', '還有在那個包包裡面可以放很多禮物待你的國家，所以你可以那些禮物給你的家人讓他們高興。', '他們決定下雨太大了，沒有辦法繼續在外面烤肉。', '電影叫「ＷＡＬＬ－Ｅ」，我覺得是很可愛的電影。', '對不起，我不能參加你開的慶祝會，因為我有事情。但是我一定送給你一把很大的花。', '我們打算開一個生日會。', '上課的時候，張愛文問林美美下課以後要不要跟他一起去看電影。', '我住在台北已經一年了，而且學中文在師大的中文中心的。', '如果要充分利用網路的好處，那就要找到平衡點。', '相信不僅是我的國家馬來西亞，全世界的青少年也同樣的面對對於沉迷於網路世界的問題。', '因為你的工廠的垃圾每天累積，不臭嗎？應該快開始夏天的關係的係，可是怎麼那麼臭的，我覺得，現在越來越臭的！', '往往在一剎那的衝動下會想不應該的事兒、甚至於會講出來不應該講的話。', '希望你們那個很特別的一天過得很開心！', '我們的孩子和父母都因為噪音太大而睡不著，在村里大大小小都因臭味而生病了，有病很嚴重。', '在台灣學生能夠專注學習以及獲得專業實施食能力對學生本身的未來甚至於整國家發展的趨向有重大的影響。', '我認為家庭教育跟學校教育要相結合，但結合這個詞有時被誤解。', '雖然在教室裡裝攝影機可以讓家長看到小孩在教室裡的情，使他們放心，不過，這種做法實在是太極端了吧！', '在現代這個發展的社會，越來越多人認為小孩子應該提早接受正規教育。', '我知道您是很聰明的人還有您非常關心別人的問題，所以我希望您幫助我們。', '先的人更重視小孩子們必須日積月累的學習，這些都是應社會的需要而必須怎麼做。', '特別是到用餐時間聞到這些味道使我們都吃不下東西，的個人健康都出了問題。', '今天我跟美美一起去看以前她要看的電影。', '早知道他是老師，說不定可以跟他一起來學校，他很高興老師對他非常好。', '一方面我以經有很多很棒的朋友所以有的時候我很爛跟他們連絡約時間。', '六點半，他到火車站，所以他很高興。', '隨著電器的發達，家庭主婦該做的家事也相對省力了。', '此外，當個家庭主婦有多好處和樂趣。', '攝影機的特色是可以看到小孩在教室裡做什麼，家長可以知道自己孩子上課的態度怎麼樣，像又沒有主動參加教室裡的活動，每天學習什麼等等。', '我知道你的意思，除了目前的生活很痛苦，你也許那我一個主意。', '他年紀大了，三年就要退休了，從他出社會到現在都在哪家公司上班但是現在變成一無所有。', '上課時總不能專心，因為會覺得有很多眼睛在瞪著我。', '因為我的同事是用台語跟國語混在一起說，我聽不懂。', '他跟那位小姐道謝，就趕快去上課。', '讓小孩們自由對小孩的成長比較好，我覺得大人不要幫他們幫忙，否則我覺得學校得再考量他們的看法。', '我想，每個人都有自己的夢想一定要有勇氣去實現它。', '那到底保護環境比建立公路甚麼更多的利處呢？', '還是你們也可以出去搬離我們這邊，這樣我們也不想太多東西麻煩你們。', '在學校林美美的旁邊的位子是張愛文。', '因為你不是住在工廠，只來工商工作而已，你可能不知道我們的生活困難。', '免費影院電影播放或是網路拍賣等等網路就有很多資訊，很多東西容易讓你上癮像線上遊戲、社群網站、免費影院電影播放或是網路拍賣等等，很容易讓你一直一直沒辦法做其他事情，沒辦法好好的念書等等。', '我自己會用電腦已經會了二十多年了，可是我第一次上網路是大概我開始上大學的時候，因為我們國家２０００年以後才變成了一個非要上網路不可的國家了。', '大大小小的明班已經上了二十分鐘的課。', '我爬山了六個小時。', '我來台彎要學中文，因為中文很重大邀。', '因為真的每一個母親很擔心小孩子在那邊他有沒有問題，我希望這種想法會成功。', '大戰後的社會，是屬於農業社會，所以對教育比較不重視，因此大部分的時間都在幫忙農耕和家事，剩下的時間是在田裡玩的。', '一方面我竟有很多很棒的朋友所以有的時候我很爛跟他們連絡約時間。', '然後巴士來了，他們很高興得進去。', '對我來說青少年用上網的事情是一個很不好的情況，我曾經看他們都是上網玩遊戲及找朋友。', '我在波蘭學了亞洲文化還有管理的理。', '跟您電話時，當時我好擔心您，以後我想一想我們要怎麼辦。', '我希望你很快恢復你的健康！那麼你好好得休息。', '現在的妳一定感到非常的委，因為我也經歷過類似的事，所以我想我可以感同身受。', '如果透過攝影機發生他們的壞事，老師可以把錄影給小孩罰。', '我要買一個太樣兵，因為這個是台灣的傳統餅幹。', '大明緊張張得不得了。', '我媽媽生病了所以我得去看他。', '您好李老師，今天我找您。', '這幾天，我們的鄰居一個一個地來跟我煩惱。', '所以愛文跟美美找一找空間的時間，今天才來很大的電影院。', '在一個教室裡有很多小孩、老師教他們或講他們不聽話、老師跟家長講有的聊解自己的小孩就會聊解老師的話、相反有的家長步踏聊解自己的小孩一定不會聊解老師說的。', '除此久外，寵物出租公司還提供養狗訓練課程，因此我們就能以正確的方法來養小狗。', '本來我打算去你的公司參加，可是後來我的家有問題，所以我不能去了。', '如果您這一個月以內沒處理的話，我們跟電視公司要說您怎麼害我們的生活，跟和平裁判師要告訴跟法律上需要解決。', '鬧鐘響了好幾次也無法叫醒他，結果他七點二十五分才被吵醒來。', '我相信校方一定可以請技術人員做好最高階的安全防護來維護我們小孩以及老師們的隱私，只讓該班同學的家長們看到某班的影像。', '對我自己來說，我覺得現在是往新時代的過期。', '如果有問題的話家長可以告訴校長，所以他可以跟老師說話應該這麼樣當老師，這麼樣的好好地教學生，這麼樣做好玩學的情況，所以讓他家用功練習。', '我的國家青少年上網都滿充滿興趣的，對他們來說上網又可以學到了很多東西，而且在網路上可以找到很多好的消息。', '如果你跟朋友要去玩，你要早一點回家。', '在日本，大學生打工的情況很。', '他們跟我說出去的時候不想出去因為民不知道從哪裡來的臭味，在外面吃飯的時候沒有胃口吃，甚至買菜的時候，也發現有稍微工廠汙染的臭味。']\n",
      "244\n",
      "Ground Truths: ['你說的是對，跟那些失業的人比起來你也算是運的。', '雖然是有＂經濟＂，可是又影響到生態環境，導致台灣持有的動物可能因此消失，接下來旅客為此而不再來會導致台灣旅遊業損失。', '怎麼辦？其實阿偉一整天水樂不曲學校了！', '假如哪天你是被丟書包的人呢你會怎麼辦呢，你會他一樣這麼做嗎，還是有其他辦法呢。', '根據人生的自然來講，每個人都愛自己的家人，尤其是「兒子與媽媽的系關」，大家都會知道他們的愛是無法計算的。', '對不起老師，今天早上我的婆婆生病，所以我要帶他去看醫生。', '在上班的時候會專心地工作，回家後也會付出了很多愛心給。', '裝了攝影機以後，家長就不用再為子女苦惱思想了。', '我覺得這些人也在第二個相片兒，也在第三個象片兒。這個男人也在第一個象片兒。這兩人是朋友。', '我真的很高興你已經找到了一份工作了。', '事實上我們社會的的壞人很多。', '孩子在也要上高中了吧，你還可以輔導他的學習。', '我的家是在您的工廠附近，最近您的工廠的噪音和臭味都讓這裡的人民真受不了。', '不要因為那位同學覺得你是小偷而導致你對他有偏見，我相信他理」心一定比妳更尷尬更不舒服。', '後來我回想以下就有重幽靈一般的問候出現：「值日生」是什麼？', '在夜店很熱鬧，有很多辣妹在跳舞，還可以喝酒和啤酒，跳無，跟辣妹聊一聊。', '我想問你明天請假，因為今天下課以後我發現我的車子被偷走了。', '你回美國已後，請你幫我買一個好看黑色的錶。', '如果不能改的話，我們去投訴政府的機關。', '她告訴愛文：如果他在晚上喝酒他的身體一定不太好。', '最近廠長裡面發出一種很難聞的味道，這種味道只不讓我們村裡的空氣汙染，而還讓大家覺得害怕。', '雖然我理解你的想法，但我個人已經有了自己的人生計畫。', '今天他學習得很愉快。', '問題不在出來外面、問題一定在個人裡面。', '雖然服用藥市我們還在呼吸外面的空氣、也還在接處贓的東西、怎麼可以容易治療呢？', '有人提起「隱私權」的問題，當然了解他們的想法，但跟小孩的學校生活安全比起來哪一個是重要呢？', '花蓮台東的風景氣勢磅[UNK]、澎湖的景觀是人間仙境，要是這兩地方的可貴自然美都被破壞了，台灣反而就是去了觀光的吸引力。', '他到學校的時後，中文課已經開始。', '問題就是「半工半讀」又兩影像，又好處並也存在壞處。', '我已經進入會幾年了，我有自己的計劃，自己的目標等等。', '我也知道你很難過也想找個辦法以發洩，而大聲喊也是各辦法。', '我作天學中文到晚上十點。', '所以你不用擔心景氣會慢慢好起來的。大明阿你要加油。自己要努力才能成功', '我趕快起床不洗澡，去公車站，但是有很多人而且塞車。', '那裡的天氣很好，不太熱也不太冷。', '我們希望請你趕快處理以上的問題，我們要求下個月以內把那問題解決。', '話說回來我網路家的朋友大部分只跟我說一說幾天，然後結束跟我連囉。', '上個月我坐飛機到加拿大去了。', '我們約在台北１０１前面，好不好？六點可以嗎？請你星期六以前給我打電話。', '明天我要跟我的媽媽去公司買些重要的東西，所以不能跟你一塊兒去。', '到日本他看見他的朋友等她，他的朋友請她一起吃午飯。', '我很系望原諒，我祝你跟同學出去好好玩兒，你跟同學玩的人快樂，記得要小心。', '因為現在，我們這一時代，就是不能相信別人家的很冷淡的時代嘛！', '我希望可能參加你的晚會，可是他的身體真的不太好！', '我有很多鄰工作在李工廠，這家工廠幫這個城市的經濟。', '我已經自己能到公館捷運站了，可是看地圖也都看不懂怎麼去學校。', '我門打算很久要去看他，所以我不可能參加你的會。', '有別的現代工廠使出了這兩個效果，你可以採用他們的辦法。', '他等了二十分鐘，公車才來，而且今天的路上的車子比較多，公車碰到塞車了。', '我建議你多活用現在你有的三天的放假的時間，比如說，你趁著這些時間可以去學電腦、外語、商業等。', '我寫這封電子郵件問你，現在你的身體怎麼樣了？', '現在回到家，慢慢再想起今天的事情，一定對妳感到抱歉，改天應該會妳道歉。', '你說要跟朋友合作開供應各國食物餐廳？好意！', '他坐公車三十分鐘才到學校了。', '一來說他們忙不過來。他們認為在網路上找到朋友是一個很好的機會。', '我很高興你們要請我參加你們的婚禮。', '早知道他是老師，說不定可以跟他一起來學校，他很高興老是對他非常好。', '這城市很小對不對？', '我覺得很多人喜歡買黑色的書包應為不容易[UNK]，我覺得咖啡色也漂亮。', '我們坐車４５分就到，我們開[UNK]，我們都很快，我們玩的很高興。', '我覺得你應該也吃藥也休息幾天就好了。', '到教室之後師是看到大明遲到，就罵他了很大聲。', '我認為，一個人是透過人際關係學習人生的深意義，這個角色是高薪或金錢沒辦法做到的。', '天氣那裡不怎麼好。', '上課一後，我真的很高興因為我的老師是以前的那個小姐。', '還有私立的學校老師會幫忙你的小孩如果他不了解今天的題目，老師會照顧小孩很像家裡的感覺，我們學校都設備很好。', '他不我們計程車而先用台語告訴司機他叔叔地址而用英文跟我們說不必擔心，司機知道。', '這下子，他不得不衝動地檢你的東西。', '如果不是很大的問題我不會拜託您們呢，所以請先您們想一想方法怎麼樣可以處理？', '恭喜恭喜！你找到工作，我們也很高興。', '但是關於古克力，他好像就會發瘋了，行為就會變的。', '根據調查，青少年平均上網時間超過看書或看電視。', '今天晚上我要跟你很重要的事情談一談。', '剛開始我沉迷於「即時通」，每天和朋友在線上可以聊上數小時，聊一些有的沒的，時間隨著網路流逝地非常快，完全沒有時間和精神可以應用在課業上。', '真不曉得，下張項目可能為何？', '我跟你說如果超你的能力乾最分手就好。', '我們都知道這個：「孩子是我們的將來」的說法。', '如果那份工作經驗是為了為生，養的成分也削弱，精神分散。', '我們的附近地方不是開給工廠用的，而且我們打算去立法院抗議，這個問題有很大影到我們住進的生活物。', '一天到晚在自的職場辛苦地工作回到家沒有人來迎他會使他感到[UNK]涼。', '他們要看的是美國電影。他們覺得很好看，所以他們看完了以後決定一定要買這個電影的[UNK]了。', '我已經自己能到公館捷運站了，可是看地圖也都看不懂怎麼去學校。', '我應該學習法文，因為我明天有法文的考試。', '總得來說，正規教育和游戲探索世界是缺一不可的。家長應該讓孩子自由的摸索這個世界並時的給予指導和協助。', '老師跟小孩的關係是好的話、解決很多問題。', '我代表所有住在你工廠附近的人民先說一聲感謝，你的工廠的存在已經對我們這些人民帶了不少的幫忙。', '朋友不應該這樣：於是我要很認真跟你說我覺得很不好意思。', '老是教書。', '有的人經濟發展，有的人反對還憬坡懷。那誰的想法對嗎？', '我的頭有一點藤。', '假設是我們，一旦知道我們的一舉一動都有人察觀，我們會有怎麼樣的感覺？', '所以不是只有很激烈的學生，也會有激烈的父母。', '而且在我們班中，只有我跟她的關最不好的。', '我都很認真聽和說出自己的意見並且也很嚴肅地思考及分析那個意見是好的或是不好的。', '有工作經驗助於個人的養寒食及工作能力。', '可是因為有了電腦，科技發達，因此我們到哪裡能夠簡單地視訊，看到遠處的朋友們。', '愛的李大明。', '因為這個題目對他來說不難，沒幾分鐘他已經就考好了。', '我的看法是如何呢？我持著「不要設定限制」的態度。', '其實這個舉動是不必要的。你一旦決定把小孩送去學校是已經選擇相信你的小孩已經獨立，能在團體生活中過的非常好。', '他們不高興因為他們的衣服濕溪的。', '經濟發展與環境保護，皆政府最重要的任務之一，不能以一完全[UNK]餘二。', '我想要喝的東西，我得不得了。', '我必要面對人與環境做一些平衡，所以研發新的綠色環保是將來的需求。', '你去以前，我可以給你錢。', '若本學校的網站只限給家長使用，這做法我很支持。', '因為我媽媽從蒙古來了，這幾天帶她去醫園。還要做的事情很多，累得不的了。', '政府可以多點錢，把高速公路彎過去是最好的方法。', '我以前看過台灣的自然的書，內容是蝴蝶王國。真是台灣一定保自然環景。', '我們的這個地球只能美麗如果萬生萬物都不生殖發展。', '這種麵包的外面是白色的，是差不多高兩公高的，也有糖在裡面。冬天，麵包店都賣。', '印尼有一個地方叫峇里，那邊的風景最好看的。', '他問為什麼我在這裡自己站著然送我回火車站。', '我就要參家你的會，可是那個天我跟我的媽媽和爸爸要去美國看見我的弟弟。', '要是以自己賺錢付學費的話，也許容易找到學習意義和學習價值。', '有的小孩她不想這個學校但是父母偏偏他們一定要念這所學校，造成他們不喜歡念，如果念只是一個任務罷了。', '但您知不知道，咱們家裏的人，承受您的天才能只有大哥。', '最近，我覺得很累，生活太過無聊。', '也許老師可以把影錄給父母看，所以他們知道他們的孩子這麼樣，也是這麼樣教他們的孩子。', '大部分的人會把經濟衰退視為發展的障礙，其實你能把握這時增加你的潛力。', '其實我們很多時候，不是完全能夠的行為和感受的。', '我們是好朋友所以我會一在你身邊，有事就可以與我連絡。', '加上除了拿到博士學位的人以外，就業的時候沒有受到限制。', '在日本也很多青少年愛上網。有些人上網中毒了不能停上網。而且很多青少年在上網受了不好的影響。', '但是到了中學，他們都開始大量地用電，而到了大學，他們都已經忘記了在小學時學的很多字。', '在日本，大學生打工的情況是相當普的。', '五十年前在美國有很多人吸菸，這些人得症的可能性很高，而且很多是窮人。', '如果您那裡真的有事情不能回來．．．還是我這裡想辦法先處理吧！', '下個星期休假，所以我想跟你去旅行。', '他跟同學在討論，前面在黑板上有數學的公式。', '「青少年上網時數多」的情況。', '放假快要來了，你友打算嗎？', '我來台灣才一個多月。', '那本是美國的地理。', '現代的生活因為少子化的關係所以現在的人往往不想生孩子，但是怕孤獨的他們就會想養寵物來陪伴。', '他是很用功的人，所以很聰明。', '朋友的同學竟然說，你是不是意把我的錢包丟在其他地方？', '我的家離學校很近，所以我常走路去學校學習，走路大概十分鐘就到了。', '若在兩週之內，其「噪音」及「臭味」亦然存在。我們不得不藉法律的方法並提出訟訴解決。', '我們居民皆同意由於您方所造成他們的噪音困擾大致上分為兩個時段。', '看這種網路大部分都是學壞的，有很多理由：有的是想逃避家庭的困難，有的考不上或是失戀．．．所以選這種方法來解決問題。', '對你我們的建議是，「請您不要隨地放垃圾」。', '多少青少年沉淪在網路的手裡，身邊的朋友多少位因為濫用網路送上了自己的前途，最後在人群中迷茫！', '有人說，世界上的事情的黑白分不了，個方法都有所導理。', '考完試以後我就有空了，所以等考完試我再給你打電話，好嗎？', '對不起，我們下星期再去看，好不好？請你了解我只好這樣做。', '我想請假一天，後天我一定會來上課的。', '請全公司的職員一起負擔公司的危機。機的經狀況轉好而復甦，這些你們的功勞一定是會報恩你們的。', '如果從小的時候小孩覺得大人都不相信他們，那他們以後不會變成好的大人問？', '我們您希望可以對大家早想，為大家的健康跟這邊的空氣希望你有改變的想法。', '相反地，他卻造成青少年身心靈發展不良的現象，如溝通能力障礙、自閉症、近視等等。', '就像我們華人常聽到「男主外，女主內」的句。', '如果我有小孩子的話，我不曉得我不會跟他們一樣支持在教室裡面裝攝影機。', '在花蓮縣去年一位特殊的高中生因為收到老師的色情暴力懷孕，那件事造成連學長格致。', '例如年輕人開始晚上不睡覺打電玩進而響影到明天上課的精神，或是長期在電腦前面注視著螢幕變成近視兒童。', '因為每個小孩的脾氣不一樣所以家長很擔心有沒有乖乖聽老師的話有沒有認真，小孩的成長一定要有家長在旁邊教育。', '祝你身體健康。', '不知不覺，對網路的依賴變得很重，坐在電腦前花的時間已變得更多。', '我最喜歡秋天山上的風景。', '大明你還記不記得我們的荷蘭女同學？', '恭喜你們永遠幸福，早生孩子，恭喜恭喜。', '聽說你準備開一個祝會，那天我不能跟你參加。我很抱歉阿。', '雖然是需要投資的，不過我們相信這不只是為了我們這些人做，而也是為了我們孩子，他們的孩子，也是為了保持我們唯一的自然環境。', '既然我要跟你見面，可是應該幫他，可不可以改天嗎？', '最重要是如果爸媽真的自己去看真的情況怎麼樣？才你了解自己的孩子。', '您工廠的噪音和臭味都讓鄰居們受不了了，我們希望您趕快處理這件事。', '我也曾經有跟你類似的經驗，當時，我真很難過。', '總之而言，環境是人類需要的基本要求和因素，它是為了我們的人類不斷犧牲。', '尤其是醫療方面系所的學費，差不多買到一個房子一樣貴！', '小明的女朋友覺得這個電影很有趣，他覺得這個電影裡的人都很可愛。可是小明覺得有一點長，那麼長他睡著了。', '我今天來找你的時候你不在，我想告訴你，我明天不能來上課。', '今天早上我在辦公司找妳，可是妳還沒來，所以我留一張紙告訴妳。', '我有一位在世界展望會工作的朋友想讓你認識，他非常地有愛心，幾乎每個禮拜都會上山，幫助部落的災區們，他說他想你聊一聊。', '還有在那個包包裡面裡可以放很多禮物待你的國家，所以你可以那些禮物給你的家人讓他們高心。', '他們決定下雨太大了，沒有辦法繼希在外面烤肉。', '電影叫「[UNK]－[UNK]」，我覺得是很可愛的電影。', '對不起，我不能參加你開的慶祝會，因為我有事情。但是我一定送給你一把很大的花。', '我們打算開一個生日會。', '上課的時候，張愛文問林美美下課以後要不要跟他一起去看電影。', '我住在台北已經一年了，而且學中文在師大的中文中心的。', '如果要充分利用網路的好處，那就要找到平衡點。', '相信不僅是我的國家馬來西亞，全世界的青少年也同樣的面對沉迷於網路世界的問題。', '因為你的工廠的垃圾每天累積，不臭嗎？應該快開始夏天的關係也有，可是怎麼那麼臭的，我覺得，現在越來越臭的！', '往往在一剎那的衝動下會想不應該的事兒、甚至於會講出來不應該講的話。', '希望你們那個很特別的一天過得很開心！', '我們的孩子和父母都因為噪音太大而睡不著，在村里大大小小都因臭味而生病了，有的病很嚴重。', '在台灣學生能夠專注學習以及獲得專業實施機能力對學生本身的未來甚至於整國家發展的趨向有重大的影響。', '我認為家庭教育跟學校教育要相結合，但結合這個詞有時被誤解。', '雖然在教室裡裝攝影機可以讓家長看到小孩在教室裡的情，使他們放心，不過，這種做法實在是太極端了吧！', '在現代這個速發展的社會，越來越多人認為小孩子應該提早接受正規教育。', '我知道您是很聰明的人還有您非常心關別人的問題，所以我希望您幫助我們。', '先的人更重小孩子們必須日積月[UNK]的學習，這些都是應社會的需要而必須怎麼做。', '特別是到用餐時間聞到這些味道使我們都吃不下東西，的健康都出了問題。', '今天我跟美美一起去看以前她要看的電影。', '早知道他是師是，說不定可以跟他一起來學校，他很高興老是對他非常好。', '一方面我竟有很多很棒的朋友所以有的時候我很爛跟他們連絡約時間。', '六點半，他到火車站，所以他很高興。', '隨著電器的發達，家庭主婦該做的家事也相對省力了。', '此外，當個家庭主婦有多好處樂趣。', '攝影機的特色是可以看到小孩在教室裡做什麼，家長可以知道自己孩子上課的態度怎麼樣，像又沒有主動參加教室裡的活動，每天學習什麼等等。', '我知道你的意思，除了目前的生活很痛苦外，你也許那我一個主意。', '他年紀大了，三年就要退休了，從他出社會到現在都在哪家公司上班但是現在變成一無所有。', '上課時總不能專心，因為會覺得有很多眼睛在瞪著我。', '因為我的同事用台語跟國語混在一起說，我聽不懂。', '他跟那位小姐道謝，就趕快去上課。', '讓小孩們自由對小孩的成長比較好，我覺得大人不要幫他們幫忙，不然我覺得學校得再考量他們的看法。', '我想，每個人都有自己的夢想一定要有勇去實現它。', '那到底保護環境比建立公路甚麼更多的利處呢？', '還是你們也可以搬出去離我們這邊，這樣我們也不想太多東西麻煩你們。', '在學校林美美的旁邊的位子是張愛文。', '因為你不是住在廠工，只來工商工作而已，你可能不知道我們的生活困難。', '免費院電影電影播放或是網路拍賣等等網路就有很多資訊，很多東西容易讓你上癮像線上遊戲、社群網站、免費電影元電影播放或是網路拍賣等等，很容易讓你一直一直沒辦法做其他事情，沒辦法好好的念書等等。', '我自己會用電腦已經會了二十多年了，可是我第一次上網路是大概我開始上大學的時候，因為我們國家２０００年以後才變成了一個非要上網路不可的國家了。', '大明的班已經上了二十分鐘的課。', '我發山爬了六個小時。', '我來台彎要學中文，因為中文很重邀。', '因為真的每一個母親很擔心小孩子在那邊他有沒有問題，我希望這種想法會成功。', '大戰後的社會，是屬於農業社會，所以對教育比較不重視，因此大部分的時間都在幫忙農耕家事，剩下的時間是在田裡玩的。', '一方面我竟有很多很棒的朋友所以有的時候我很爛跟他們連絡約時間。', '然後巴士來了，他們很高興得進去。', '對我來說青少年用上網的事情是一個很不好的情況，我曾經看他們都是上網玩遊戲及找朋友。', '我在波蘭學了亞洲文化還有理。', '跟您電話時，當時我好擔心您，以後我想一想我們要怎麼辦。', '我希望你很快恢復你的健康！那麼你好好得休息。', '現在的妳一定感到非常的委，因為我也經歷過類似的事，所以我想我可以感同身受。', '如果透過攝影機發生他們的壞事，老師可以把影錄給小孩罰。', '我要買一個太樣兵，因為這個是台灣的傳統餅幹。', '大明緊張得不得了。', '我媽媽生病了所以我得去看他。', '您好李師時，今天我找您。', '這幾天，我們的鄰居一個一個地來跟我煩惱。', '所以愛文跟美美找一找空的時間，今天才來很大的電影院。', '在一個教室裡有很多小孩、師老教他們或講他們不聽話、老師跟家長講有的聊解自己的小孩就會聊解老師的話、相反有的家長步踏聊解自己的小孩一定不會聊解老師說的。', '除此外，寵物出租公司還提供養狗訓練課程，因此我們就能以正確的方法來養小狗。', '本來我打算去你的公司參加，可是後來我的家有問題，所以我不能去了。', '如果您這一個月以內沒處理的話，我們跟電視公司要說您怎麼害我們的生活，和跟裁判師要告訴跟法律上需要解決。', '鬧鐘響了好幾次也無法叫醒他，結果他七點二十五分才被吵醒來。', '我相信校方一定可以請技術人員做好最高階的安全防護來維護我們小孩以及老師們的隱私，只讓該班同學的家長們看到某班的影像。', '對我自己來說，我覺得現在是往新時代的過期。', '如果有問題的話家長可以告訴校長，所以他可以跟老師說話他們應該這麼樣當老師，這麼樣的好好地教學生，這麼樣做好玩學的情況，所以讓他家用功練習。', '我的國家青少年上網都充滿興趣的，對他們來說上網又可以學到了很多東西，而且在網路上可以找到很多好的消息。', '如果你跟朋友要去玩，你要早一點回家。', '在日本，大學生打工的情況很。', '他們跟我說出去的時候不想出去因為到不知道從哪裡來的臭味，在外面吃飯的時候沒有胃口吃，甚至買菜的時候，也發現有稍微工廠汙染的臭味。']\n",
      "244\n"
     ]
    }
   ],
   "source": [
    "print(\"Predictions:\", df_predictions_4o)\n",
    "print(len(df_predictions_4o))\n",
    "#df_ground_truths = df['corrected_text'].tolist()\n",
    "#df['ground_truth'] = df_ground_truths\n",
    "print(\"Ground Truths:\", df_ground_truths)\n",
    "print(len(df_ground_truths))"
   ]
  },
  {
   "cell_type": "code",
   "execution_count": 44,
   "id": "97a906c4",
   "metadata": {},
   "outputs": [],
   "source": [
    "df['prediction_4o_mini'] = df_predictions_4o\n",
    "#df['ground_truth'] = df_ground_truths\n",
    "#df['ground_truth'] = SIGHAN_labeler['corrected_text']\n",
    "df.to_csv(\"SIGHAN_LLM_predictions.csv\", index=False)"
   ]
  },
  {
   "cell_type": "code",
   "execution_count": 45,
   "id": "6a69b7db",
   "metadata": {},
   "outputs": [
    {
     "name": "stdout",
     "output_type": "stream",
     "text": [
      "Accuracy: 48.77%\n"
     ]
    }
   ],
   "source": [
    "df['is_correct'] = df['prediction_4o_mini'] == df['ground_truth']\n",
    "accuracy = df['is_correct'].mean()\n",
    "print(f\"Accuracy: {accuracy:.2%}\")"
   ]
  },
  {
   "cell_type": "code",
   "execution_count": 92,
   "id": "41b3de84",
   "metadata": {},
   "outputs": [],
   "source": [
    "df.to_csv(\"SIGHAN_LLM_predictions.csv\", index=False)"
   ]
  },
  {
   "cell_type": "code",
   "execution_count": 9,
   "id": "e300af65",
   "metadata": {},
   "outputs": [],
   "source": [
    "Wiki_labeler = pd.DataFrame(columns=['text', 'command','corrected_text'])"
   ]
  },
  {
   "cell_type": "markdown",
   "id": "9bc749b7",
   "metadata": {},
   "source": [
    "----"
   ]
  },
  {
   "cell_type": "code",
   "execution_count": null,
   "id": "c3002a38",
   "metadata": {},
   "outputs": [],
   "source": [
    "\n",
    "for index, row in tqdm(Wiki_labeler_df.iterrows(), total=len(Wiki_labeler_df)):\n",
    "    # 將 text 用 [SEP] 分割成兩部分\n",
    "    parts = row['text'].split('[SEP]')\n",
    "    if len(parts) != 2:\n",
    "        print(f\"格式錯誤，跳過 index {index}\")\n",
    "        continue\n",
    "\n",
    "    original_text = parts[0].strip()\n",
    "    command_text = parts[1].strip()\n",
    "\n",
    "    # 將原句 tokenize\n",
    "    tokens = tokenizer.tokenize(row['text'])\n",
    "\n",
    "    # 解析標籤\n",
    "    labels = ast.literal_eval(row['label'])\n",
    "\n",
    "    # 判斷指令中是否包含三種關鍵字\n",
    "    if '刪除' in command_text:\n",
    "        operation = 'delete'\n",
    "    elif '新增' in command_text:\n",
    "        operation = 'insert'\n",
    "    elif '改成' in command_text:\n",
    "        operation = 'replace'\n",
    "    else:\n",
    "        operation = None\n",
    "\n",
    "    if operation is None:\n",
    "        print(f\"index {index} 未包含有效指令，跳過\")\n",
    "        Wiki_labeler = pd.concat([Wiki_labeler, pd.DataFrame({\n",
    "        'text': [original_text],\n",
    "        'command': [command_text],\n",
    "    })], ignore_index=True)\n",
    "        continue\n",
    "\n",
    "    # 先找出標籤中的關鍵位置\n",
    "    modify_indices = [i for i, lab in enumerate(labels) if lab == \"B-Modify\"]\n",
    "    filling_indices = [i for i, lab in enumerate(labels) if lab == \"B-Filling\"]\n",
    "\n",
    "    if operation == 'replace':\n",
    "        # 假設你要把 B-Modify 位置的 token 換成 B-Filling 位置的 token\n",
    "        if modify_indices and filling_indices:\n",
    "            for m_i, f_i in zip(modify_indices, filling_indices):\n",
    "                tokens[m_i] = tokens[f_i]\n",
    "\n",
    "    elif operation == 'delete':\n",
    "        # 刪除 B-Modify 標記位置的 token\n",
    "        for idx in sorted(modify_indices, reverse=True):\n",
    "            tokens.pop(idx)\n",
    "\n",
    "    elif operation == 'insert':\n",
    "        # 加入 B-Filling 標記位置的 token（這邊示範在 B-Filling 位置插入該 token，實際視情況調整）\n",
    "        # 這邊範例是直接把 B-Filling 的 token插入到該位置\n",
    "        for m_i, f_i in zip(modify_indices, filling_indices):\n",
    "            tokens.insert(m_i, tokens[f_i])\n",
    "    \n",
    "    if '[SEP]' in tokens:\n",
    "        tokens = tokens[:tokens.index('[SEP]')]\n",
    "\n",
    "    corrected_text = tokenizer.convert_tokens_to_string(tokens)\n",
    "    corrected_text = ''.join(tokens).replace('##', '')\n",
    "\n",
    "    Wiki_labeler = pd.concat([Wiki_labeler, pd.DataFrame({\n",
    "        'text': [original_text],\n",
    "        'command': [command_text],\n",
    "        'corrected_text': [corrected_text]\n",
    "    })], ignore_index=True)\n",
    "\n",
    "    print(f\"原句: {original_text}\")\n",
    "    print(f\"指令: {command_text}\")\n",
    "    print(f\"操作: {operation}\")\n",
    "    print(f\"結果: {corrected_text}\")\n",
    "    print(\"=\"*30)"
   ]
  },
  {
   "cell_type": "code",
   "execution_count": 11,
   "id": "07fc78a8",
   "metadata": {},
   "outputs": [
    {
     "name": "stdout",
     "output_type": "stream",
     "text": [
      "Wiki_labeler DataFrame:\n",
      "                                                  text        command  \\\n",
      "0    該域名與 1995 年 4 月 29 日啟用不知別克斯坦和拉脫維亞的一些網站使用的是該域名該...    把不懈的不改成烏龜的烏   \n",
      "1    1234 四本紀奈是一種多環芳香烴常用於本科生的實驗室教學中的迪爾斯阿爾德反應教學在這個例子...      把彳亍行改成刑土型   \n",
      "2                          是沒現於東青塘燈旗魚從廣運通將當更正射頻想去參以做運維      把厽㐱參改成殸耳聲   \n",
      "3                            急所謂普選時間表明定哪一年能補選政府建議中沒有提及     把刍心急改成旋即的即   \n",
      "4    台東市第三公有零售市場與 1997 年新建會在台東市仁二街 310 巷內惟台東縣政府之公共造...         刪除會計的會   \n",
      "..                                                 ...            ...   \n",
      "496       1862 年第二次那沙司之一爆發維吉尼亞軍團得勝而受鼓舞主動向北方發動侵略展開馬裡蘭會戰  在那兒的那前面新增跑馬的馬   \n",
      "497  糖心線高架路舊村三省道東阜縣高價是浙江省杭州市的一條高架快速路起點位於紅 15 線終點目前位...      把𠂤十阜改成衤复複   \n",
      "498  事故發生後初期臺灣輿論認為只是尋常的大陸赴台遊客交通意外有此大規模討論遊覽車的安全問題先揭露...      把水步涉改成言殳設   \n",
      "499  該域名與 1995 年 1 月 25 日期用的虛是尼泊爾和在尼泊爾有辦事機構的實體組織和公司...     把禾口和改成間或的或   \n",
      "500  具景觀回憶描述左右鄰居都跟他吵過或被他告過而且隨身會帶一台相機蒐證檢舉他心機很重難以相處的個...    在粦阝鄰前面新增土也地   \n",
      "\n",
      "                                        corrected_text  \n",
      "0    該域名與1995年4月29日啟用烏知別克斯坦和拉脫維亞的一些網站使用的是該域名該網站沒有註冊...  \n",
      "1    1234四本紀奈是一種多環芳香烴常用於本科生的實驗室教學中的迪爾斯阿爾德反應教學在這個例子中...  \n",
      "2                          是沒現於東青塘燈旗魚從廣運通將當更正射頻想去聲以做運維  \n",
      "3                            即所謂普選時間表明定哪一年能補選政府建議中沒有提及  \n",
      "4    台東市第三公有零售市場與1997年新建在台東市仁二街310巷內惟台東縣政府之公共造產遊台東市...  \n",
      "..                                                 ...  \n",
      "496       1862年第二次馬那沙司之一爆發維吉尼亞軍團得勝而受鼓舞主動向北方發動侵略展開馬裡蘭會戰  \n",
      "497  糖心線高架路舊村三省道東複縣高價是浙江省杭州市的一條高架快速路起點位於紅15線終點目前位於東...  \n",
      "498  事故發生後初期臺灣輿論認為只是尋常的大陸赴台遊客交通意外有此大規模討論遊覽車的安全問題先揭露...  \n",
      "499   該域名與1995年1月25日期用的虛是尼泊爾或在尼泊爾有辦事機構的實體組織和公司才能申請註冊域名  \n",
      "500  具景觀回憶描述左右鄰居都跟他吵過或被他告過而且隨身會帶一台相機蒐證檢舉他心機很重難以相處的個...  \n",
      "\n",
      "[501 rows x 3 columns]\n"
     ]
    }
   ],
   "source": [
    "print(\"Wiki_labeler DataFrame:\")\n",
    "print(Wiki_labeler)\n",
    "Wiki_labeler.to_csv(\"Wiki_data/Wiki_labeler_output.csv\", index=False, encoding='utf-8')"
   ]
  },
  {
   "cell_type": "code",
   "execution_count": 18,
   "id": "89ec4e23",
   "metadata": {},
   "outputs": [],
   "source": [
    "Wiki_output = []"
   ]
  },
  {
   "cell_type": "code",
   "execution_count": null,
   "id": "4a7eb9e4",
   "metadata": {},
   "outputs": [],
   "source": [
    "Wiki_output_4o = []"
   ]
  },
  {
   "cell_type": "code",
   "execution_count": 24,
   "id": "0373344d",
   "metadata": {},
   "outputs": [],
   "source": [
    "Wiki_output_4o_mini = []"
   ]
  },
  {
   "cell_type": "code",
   "execution_count": 25,
   "id": "151664fd",
   "metadata": {},
   "outputs": [
    {
     "name": "stderr",
     "output_type": "stream",
     "text": [
      "100%|██████████| 501/501 [13:39<00:00,  1.64s/it]\n"
     ]
    }
   ],
   "source": [
    "for index, row in tqdm(Wiki_labeler.iterrows(), total=len(Wiki_labeler)):\n",
    "    try:\n",
    "        response = client.chat.completions.create(\n",
    "            model=\"gpt-4o-mini\",\n",
    "            messages=[\n",
    "                {\"role\": \"system\", \"content\": prompt},\n",
    "                {\"role\": \"user\", \"content\": f\"原始句子：{row['text']}\\n修正指令：{row['command']}\"}\n",
    "            ]\n",
    "        )\n",
    "        # 擷取回應\n",
    "        result = response.choices[0].message.content.strip()\n",
    "\n",
    "        # 儲存預測與真實標籤\n",
    "        Wiki_output_4o_mini.append(result)\n",
    "        #df_ground_truths.append(row['corrected_text'])\n",
    "\n",
    "    except Exception as e:\n",
    "        print(f\"Error at index {index}: {e}\")\n",
    "        Wiki_output_4o_mini.append(\"error\")\n",
    "        #df_ground_truths.append(row['corrected_text'])"
   ]
  },
  {
   "cell_type": "code",
   "execution_count": 26,
   "id": "4b190acd",
   "metadata": {},
   "outputs": [],
   "source": [
    "Wiki_labeler['prediction_4o_mini'] = Wiki_output_4o_mini\n",
    "#Wiki_labeler.to_csv(\"Wiki_LLM_predictions.csv\", index=False)"
   ]
  },
  {
   "cell_type": "code",
   "execution_count": 27,
   "id": "80e2731e",
   "metadata": {},
   "outputs": [
    {
     "name": "stdout",
     "output_type": "stream",
     "text": [
      "0      該域名與1995年4月29日啟用烏龜知別克斯坦和拉脫維亞的一些網站使用的是該域名該網站沒有註...\n",
      "1      原始句子中並沒有「彳亍行」，而是出現了「環」字，因此無法執行修正指令。如果有其他需要修改的內...\n",
      "2                           是沒現於東青塘燈旗魚從廣運通將當更正射頻想去殸耳聲做運維\n",
      "3                              急所謂普選時間表明定哪一年能補選政府建議中沒有提及\n",
      "4      台東市第三公有零售市場與1997年新建在台東市仁二街310巷內惟台東縣政府之公共造產遊台東市...\n",
      "                             ...                        \n",
      "496         1862年第二次馬那沙司之一爆發維吉尼亞軍團得勝而受鼓舞主動向北方發動侵略展開馬裡蘭會戰\n",
      "497    糖心線高架路舊村三省道東複縣高價是浙江省杭州市的一條高架快速路起點位於紅15線終點目前位於東...\n",
      "498    事故發生後初期臺灣輿論認為只是尋常的大陸赴台遊客交通意外有此大規模討論遊覽車的安全問題先揭露...\n",
      "499    該域名與1995年1月25日期用的虛是尼泊爾間或在尼泊爾有辦事機構的實體組織和公司才能申請註冊域名\n",
      "500    具景觀回憶描述左右土也地鄰居都跟他吵過或被他告過而且隨身會帶一台相機蒐證檢舉他心機很重難以相...\n",
      "Name: prediction_4o_mini, Length: 501, dtype: object\n"
     ]
    }
   ],
   "source": [
    "Wiki_labeler['prediction_4o_mini'] = Wiki_labeler['prediction_4o_mini'].str.replace(' ', '', regex=False)\n",
    "print(Wiki_labeler['prediction_4o_mini'])"
   ]
  },
  {
   "cell_type": "code",
   "execution_count": 28,
   "id": "02b0cb36",
   "metadata": {},
   "outputs": [
    {
     "name": "stdout",
     "output_type": "stream",
     "text": [
      "Accuracy: 14.57%\n"
     ]
    }
   ],
   "source": [
    "Wiki_labeler['is_correct_4o_mini'] = Wiki_labeler['prediction_4o_mini'] == Wiki_labeler['corrected_text']\n",
    "accuracy = Wiki_labeler['is_correct_4o_mini'].mean()\n",
    "print(f\"Accuracy: {accuracy:.2%}\")"
   ]
  },
  {
   "cell_type": "code",
   "execution_count": 32,
   "id": "c928943b",
   "metadata": {},
   "outputs": [],
   "source": [
    "Wiki_labeler.to_csv(\"Wiki_LLM_predictions.csv\", index=False)"
   ]
  },
  {
   "cell_type": "code",
   "execution_count": null,
   "id": "35888dc3",
   "metadata": {},
   "outputs": [],
   "source": [
    "print(\"Wiki_labeler DataFrame:\")\n",
    "print(Wiki_labeler)"
   ]
  },
  {
   "cell_type": "code",
   "execution_count": 46,
   "id": "39c3f7d8",
   "metadata": {},
   "outputs": [],
   "source": [
    "annotator_df = pd.read_csv(\"llm_testing.csv\", encoding='utf-8')"
   ]
  },
  {
   "cell_type": "code",
   "execution_count": 47,
   "id": "2bb1e6eb",
   "metadata": {},
   "outputs": [],
   "source": [
    "annotator_predictions = []"
   ]
  },
  {
   "cell_type": "code",
   "execution_count": 48,
   "id": "87c32812",
   "metadata": {},
   "outputs": [
    {
     "name": "stderr",
     "output_type": "stream",
     "text": [
      "100%|██████████| 7/7 [00:10<00:00,  1.54s/it]\n"
     ]
    }
   ],
   "source": [
    "for index, row in tqdm(annotator_df.iterrows(), total=len(annotator_df)):\n",
    "    try:\n",
    "        response = client.chat.completions.create(\n",
    "            model=\"gpt-4o-mini\",\n",
    "            messages=[\n",
    "                {\"role\": \"system\", \"content\": prompt},\n",
    "                {\"role\": \"user\", \"content\": f\"原始句子：{row['ASR_Result']}\\n語音指令：{row['command']}\"}\n",
    "            ]\n",
    "        )\n",
    "        # 擷取回應\n",
    "        result = response.choices[0].message.content.strip()\n",
    "\n",
    "        # 儲存預測與真實標籤\n",
    "        annotator_predictions.append(result)\n",
    "        #df_ground_truths.append(row['corrected_text'])\n",
    "\n",
    "    except Exception as e:\n",
    "        print(f\"Error at index {index}: {e}\")\n",
    "        annotator_predictions.append(\"error\")\n",
    "        #df_ground_truths.append(row['corrected_text'])"
   ]
  },
  {
   "cell_type": "code",
   "execution_count": 49,
   "id": "a97f69bb",
   "metadata": {},
   "outputs": [],
   "source": [
    "annotator_df['prediction_4o_mini'] = annotator_predictions"
   ]
  },
  {
   "cell_type": "code",
   "execution_count": 50,
   "id": "98a53472",
   "metadata": {},
   "outputs": [
    {
     "name": "stderr",
     "output_type": "stream",
     "text": [
      "100%|██████████| 7/7 [00:09<00:00,  1.36s/it]\n"
     ]
    }
   ],
   "source": [
    "annotator_predictions_4o = []\n",
    "for index, row in tqdm(annotator_df.iterrows(), total=len(annotator_df)):\n",
    "    try:\n",
    "        response = client.chat.completions.create(\n",
    "            model=\"gpt-4o\",\n",
    "            messages=[\n",
    "                {\"role\": \"system\", \"content\": prompt},\n",
    "                {\"role\": \"user\", \"content\": f\"原始句子：{row['ASR_Result']}\\n語音指令：{row['command']}\"}\n",
    "            ]\n",
    "        )\n",
    "        # 擷取回應\n",
    "        result = response.choices[0].message.content.strip()\n",
    "\n",
    "        # 儲存預測與真實標籤\n",
    "        annotator_predictions_4o.append(result)\n",
    "        #df_ground_truths.append(row['corrected_text'])\n",
    "\n",
    "    except Exception as e:\n",
    "        print(f\"Error at index {index}: {e}\")\n",
    "        annotator_predictions_4o.append(\"error\")\n",
    "        #df_ground_truths.append(row['corrected_text'])"
   ]
  },
  {
   "cell_type": "code",
   "execution_count": 51,
   "id": "59f1323a",
   "metadata": {},
   "outputs": [],
   "source": [
    "annotator_df['prediction_4o'] = annotator_predictions_4o"
   ]
  },
  {
   "cell_type": "code",
   "execution_count": 52,
   "id": "d5e1a3a2",
   "metadata": {},
   "outputs": [
    {
     "name": "stdout",
     "output_type": "stream",
     "text": [
      "Accuracy: 57.14%\n"
     ]
    }
   ],
   "source": [
    "annotator_df['is_correct_4o'] = annotator_df['prediction_4o'] == annotator_df['corrected_text']\n",
    "accuracy = annotator_df['is_correct_4o'].mean()\n",
    "print(f\"Accuracy: {accuracy:.2%}\")"
   ]
  },
  {
   "cell_type": "code",
   "execution_count": 53,
   "id": "506a1ea7",
   "metadata": {},
   "outputs": [
    {
     "name": "stdout",
     "output_type": "stream",
     "text": [
      "Accuracy: 71.43%\n"
     ]
    }
   ],
   "source": [
    "annotator_df['is_correct_4o_mini'] = annotator_df['prediction_4o_mini'] == annotator_df['corrected_text']\n",
    "accuracy = annotator_df['is_correct_4o_mini'].mean()\n",
    "print(f\"Accuracy: {accuracy:.2%}\")"
   ]
  },
  {
   "cell_type": "code",
   "execution_count": 54,
   "id": "8e5e7df0",
   "metadata": {},
   "outputs": [],
   "source": [
    "annotator_df.to_csv(\"annotator_LLM_predictions_v2.csv\", index=False)"
   ]
  },
  {
   "cell_type": "markdown",
   "id": "86e3f525",
   "metadata": {},
   "source": [
    "### Speed Test"
   ]
  },
  {
   "cell_type": "code",
   "execution_count": 56,
   "id": "32072aff",
   "metadata": {},
   "outputs": [],
   "source": [
    "wiki_df = pd.read_csv(\"Wiki_data\\Wiki_labeler_output.csv\", encoding='utf-8')\n",
    "sighan_df = pd.read_csv(\"Wiki_data\\Sighan_labeler_output.csv\", encoding='utf-8')"
   ]
  },
  {
   "cell_type": "code",
   "execution_count": 57,
   "id": "eed0841a",
   "metadata": {},
   "outputs": [],
   "source": [
    "wiki_sample = wiki_df.sample(n=10, random_state=42)  # 設定 random_state 以確保可重現\n",
    "sighan_sample = sighan_df.sample(n=10, random_state=42)\n",
    "\n",
    "# 合併 sample\n",
    "combined_sample = pd.concat([wiki_sample, sighan_sample], ignore_index=True)\n",
    "\n",
    "# 輸出成 CSV\n",
    "combined_sample.to_csv(\"sampled_20_examples.csv\", index=False, encoding='utf-8')"
   ]
  },
  {
   "cell_type": "code",
   "execution_count": null,
   "id": "d70fb95f",
   "metadata": {},
   "outputs": [],
   "source": [
    "for index, row in tqdm(combined_sample.iterrows(), total=len(combined_sample)):\n",
    "\n",
    "    try:\n",
    "        # GPT-4o-mini 預測\n",
    "        response_mini = client.chat.completions.create(\n",
    "            model=\"gpt-4o-mini\",\n",
    "            messages=[\n",
    "                {\"role\": \"system\", \"content\": input_prompt},\n",
    "                {\"role\": \"user\", \"content\": row['command']}\n",
    "            ]\n",
    "        )\n",
    "        result_mini = response_mini.choices[0].message.content.strip()\n",
    "        print(f\"[{index}] GPT-4o-mini:\\n{result_mini}\\n\")\n",
    "\n",
    "    except Exception as e:\n",
    "        print(f\"[GPT-4o-mini] Error at index {index}: {e}\")\n",
    "\n",
    "    try:\n",
    "        # GPT-4o 預測\n",
    "        response_full = client.chat.completions.create(\n",
    "            model=\"gpt-4o\",\n",
    "            messages=[\n",
    "                {\"role\": \"system\", \"content\": prompt},\n",
    "                {\"role\": \"user\", \"content\": f\"原始句子：{row['text']}\\n修正指令：{row['command']}\"}\n",
    "            ]\n",
    "        )\n",
    "        result_full = response_full.choices[0].message.content.strip()\n",
    "        print(f\"[{index}] GPT-4o:\\n{result_full}\\n\")\n",
    "\n",
    "    except Exception as e:\n",
    "        print(f\"[GPT-4o] Error at index {index}: {e}\")"
   ]
  }
 ],
 "metadata": {
  "kernelspec": {
   "display_name": "Python 3",
   "language": "python",
   "name": "python3"
  },
  "language_info": {
   "codemirror_mode": {
    "name": "ipython",
    "version": 3
   },
   "file_extension": ".py",
   "mimetype": "text/x-python",
   "name": "python",
   "nbconvert_exporter": "python",
   "pygments_lexer": "ipython3",
   "version": "3.11.9"
  }
 },
 "nbformat": 4,
 "nbformat_minor": 5
}
